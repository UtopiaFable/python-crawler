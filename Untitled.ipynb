{
 "cells": [
  {
   "cell_type": "code",
   "execution_count": 5,
   "id": "5c6777bf-77e0-41e3-a458-cd5d2b6b48ad",
   "metadata": {
    "tags": []
   },
   "outputs": [],
   "source": [
    "import re\n",
    "import requests as rq\n",
    "import random\n",
    "import json\n",
    "from urllib.parse import unquote,quote\n",
    "from openpyxl import load_workbook\n",
    "from bs4 import BeautifulSoup"
   ]
  },
  {
   "cell_type": "code",
   "execution_count": 11,
   "id": "29839a7b-5daa-4110-b8c7-079f50c28e26",
   "metadata": {
    "execution": {
     "iopub.execute_input": "2025-07-04T08:42:52.672712Z",
     "iopub.status.busy": "2025-07-04T08:42:52.672712Z",
     "iopub.status.idle": "2025-07-04T08:42:52.679292Z",
     "shell.execute_reply": "2025-07-04T08:42:52.678788Z",
     "shell.execute_reply.started": "2025-07-04T08:42:52.672712Z"
    }
   },
   "outputs": [],
   "source": [
    "index=\"https://bond.szse.cn/api/report/ShowReport/data\""
   ]
  },
  {
   "cell_type": "code",
   "execution_count": 12,
   "id": "4e3d105e-d789-4704-93f4-be7ee36db6b2",
   "metadata": {
    "execution": {
     "iopub.execute_input": "2025-07-04T08:42:53.344863Z",
     "iopub.status.busy": "2025-07-04T08:42:53.343899Z",
     "iopub.status.idle": "2025-07-04T08:42:53.360973Z",
     "shell.execute_reply": "2025-07-04T08:42:53.359976Z",
     "shell.execute_reply.started": "2025-07-04T08:42:53.344863Z"
    }
   },
   "outputs": [],
   "source": [
    "head={\"User-Agent\":\"Mozilla/5.0 (Windows NT 10.0; WOW64) AppleWebKit/537.36 (KHTML, like Gecko) Chrome/78.0.3904.108 Safari/537.36\",\n",
    "      \"Content-Type\":\"application/json\"}"
   ]
  },
  {
   "cell_type": "code",
   "execution_count": 13,
   "id": "ad5d8a43-71c9-4976-84e6-86370a65d363",
   "metadata": {
    "execution": {
     "iopub.execute_input": "2025-07-04T08:42:56.783443Z",
     "iopub.status.busy": "2025-07-04T08:42:56.783443Z",
     "iopub.status.idle": "2025-07-04T08:42:57.140436Z",
     "shell.execute_reply": "2025-07-04T08:42:57.140436Z",
     "shell.execute_reply.started": "2025-07-04T08:42:56.783443Z"
    }
   },
   "outputs": [],
   "source": [
    "data={\n",
    "    'SHOWTYPE': 'JSON',\n",
    "    'CATALOGID': 'xmjdxx',\n",
    "    'TABKEY': 'tab1',\n",
    "    'zqlb': '0',\n",
    "    'PAGENO': '1',\n",
    "    'selectXmztt': '已反馈,通过,提交注册,注册生效,终止'\n",
    "}\n",
    "reports=rq.get(index,params=data)"
   ]
  },
  {
   "cell_type": "code",
   "execution_count": 14,
   "id": "aee88b07-0202-4054-9272-e09c69093904",
   "metadata": {
    "execution": {
     "iopub.execute_input": "2025-07-04T08:43:00.041496Z",
     "iopub.status.busy": "2025-07-04T08:43:00.041496Z",
     "iopub.status.idle": "2025-07-04T08:43:00.051469Z",
     "shell.execute_reply": "2025-07-04T08:43:00.050472Z",
     "shell.execute_reply.started": "2025-07-04T08:43:00.041496Z"
    }
   },
   "outputs": [
    {
     "data": {
      "text/plain": [
       "{'rowid': '1',\n",
       " 'zqmc': \"<a href='javascript:void(0);' a-back=1 a-param='/ShowReport/data?SHOWTYPE=JSON&CATALOGID=xmjdxx_xgmxq&xmbh=A553BB9448304D23944E094C1ACD173F&type=1'>广东省广新控股集团有限公司2025年面向专业投资者公开发行公司债券</a>\",\n",
       " 'cxsjc': \"<a target='_blank' href='http://bond.szse.cn/disclosure/progressinfo/query/index.html?txtCxs=%E4%B8%AD%E4%BF%A1%E8%AF%81%E5%88%B8'>中信证券</a>,<a target='_blank' href='http://bond.szse.cn/disclosure/progressinfo/query/index.html?txtCxs=%E5%8D%8E%E6%B3%B0%E8%81%94%E5%90%88'>华泰联合</a>,<a target='_blank' href='http://bond.szse.cn/disclosure/progressinfo/query/index.html?txtCxs=%E5%B9%BF%E5%8F%91%E8%AF%81%E5%88%B8'>广发证券</a>,<a target='_blank' href='http://bond.szse.cn/disclosure/progressinfo/query/index.html?txtCxs=%E4%B8%AD%E4%BF%A1%E5%BB%BA%E6%8A%95'>中信建投</a>,<a target='_blank' href='http://bond.szse.cn/disclosure/progressinfo/query/index.html?txtCxs=%E5%85%B4%E4%B8%9A%E8%AF%81%E5%88%B8'>兴业证券</a>,<a target='_blank' href='http://bond.szse.cn/disclosure/progressinfo/query/index.html?txtCxs=%E7%94%B3%E4%B8%87%E5%AE%8F%E6%BA%90'>申万宏源</a>,<a target='_blank' href='http://bond.szse.cn/disclosure/progressinfo/query/index.html?txtCxs=%E4%B8%87%E8%81%94%E8%AF%81%E5%88%B8'>万联证券</a>,<a target='_blank' href='http://bond.szse.cn/disclosure/progressinfo/query/index.html?txtCxs=%E6%8B%9B%E5%95%86%E8%AF%81%E5%88%B8'>招商证券</a>\",\n",
       " 'zqlb': '小公募',\n",
       " 'nfxje': '150.00',\n",
       " 'xmzt': '通过',\n",
       " 'xmslrq': '2025-06-27',\n",
       " 'xmztgxrq': '2025-07-03'}"
      ]
     },
     "execution_count": 14,
     "metadata": {},
     "output_type": "execute_result"
    }
   ],
   "source": [
    "reports.json()[0]['data'][0]"
   ]
  },
  {
   "cell_type": "code",
   "execution_count": 15,
   "id": "a45736f7-2a90-487f-81bc-8ee0032b88ff",
   "metadata": {
    "execution": {
     "iopub.execute_input": "2025-07-04T08:43:00.928594Z",
     "iopub.status.busy": "2025-07-04T08:43:00.928594Z",
     "iopub.status.idle": "2025-07-04T08:43:00.943613Z",
     "shell.execute_reply": "2025-07-04T08:43:00.942630Z",
     "shell.execute_reply.started": "2025-07-04T08:43:00.928594Z"
    }
   },
   "outputs": [
    {
     "data": {
      "text/plain": [
       "('/ShowReport/data?SHOWTYPE=JSON&CATALOGID=xmjdxx_xgmxq&xmbh=A553BB9448304D23944E094C1ACD173F&type=1',\n",
       " '广东省广新控股集团有限公司2025年面向专业投资者公开发行公司债券')"
      ]
     },
     "execution_count": 15,
     "metadata": {},
     "output_type": "execute_result"
    }
   ],
   "source": [
    "soup = BeautifulSoup(reports.json()[0]['data'][0]['zqmc'], 'html.parser').find('a')\n",
    "soup.get('a-param'), soup.string"
   ]
  },
  {
   "cell_type": "code",
   "execution_count": 16,
   "id": "c9be3ef2-9e5d-4011-81cc-c3739f8d4101",
   "metadata": {
    "execution": {
     "iopub.execute_input": "2025-07-04T08:43:07.033337Z",
     "iopub.status.busy": "2025-07-04T08:43:07.033337Z",
     "iopub.status.idle": "2025-07-04T08:43:07.241456Z",
     "shell.execute_reply": "2025-07-04T08:43:07.239417Z",
     "shell.execute_reply.started": "2025-07-04T08:43:07.033337Z"
    }
   },
   "outputs": [],
   "source": [
    "item=rq.get(index+'?'+soup.get('a-param').split('?')[1])"
   ]
  },
  {
   "cell_type": "code",
   "execution_count": 25,
   "id": "b32a0ca7-1e7c-4b3c-8d36-a6b6d340a461",
   "metadata": {
    "execution": {
     "iopub.execute_input": "2025-07-03T11:23:40.766841Z",
     "iopub.status.busy": "2025-07-03T11:23:40.766841Z",
     "iopub.status.idle": "2025-07-03T11:23:40.784070Z",
     "shell.execute_reply": "2025-07-03T11:23:40.783071Z",
     "shell.execute_reply.started": "2025-07-03T11:23:40.766841Z"
    },
    "scrolled": true
   },
   "outputs": [],
   "source": [
    "doc_url=BeautifulSoup(item.json()[2]['data'][0]['fkyjh'], 'html.parser').find('a').get('encode-open')"
   ]
  },
  {
   "cell_type": "code",
   "execution_count": 17,
   "id": "c73d4693-a7c1-4277-9d29-a1e1817403c2",
   "metadata": {
    "execution": {
     "iopub.execute_input": "2025-07-04T08:45:43.204122Z",
     "iopub.status.busy": "2025-07-04T08:45:43.204122Z",
     "iopub.status.idle": "2025-07-04T08:45:43.211132Z",
     "shell.execute_reply": "2025-07-04T08:45:43.210220Z",
     "shell.execute_reply.started": "2025-07-04T08:45:43.204122Z"
    }
   },
   "outputs": [
    {
     "data": {
      "text/plain": [
       "[{'zqmc': '广东省广新控股集团有限公司2025年面向专业投资者公开发行公司债券',\n",
       "  'zqlb': '小公募',\n",
       "  'nfxje': '150.00',\n",
       "  'fxr': '广东省广新控股集团有限公司',\n",
       "  'dq': '广东',\n",
       "  'cxsqc': '中信证券股份有限公司,华泰联合证券有限责任公司,广发证券股份有限公司,中信建投证券股份有限公司,兴业证券股份有限公司,申万宏源证券有限公司,万联证券股份有限公司,招商证券股份有限公司',\n",
       "  'xmzt': '通过',\n",
       "  'jysqrwjwh': '',\n",
       "  'xmslrq': '2025-06-27',\n",
       "  'xmztgxrq': '2025-07-03'}]"
      ]
     },
     "execution_count": 17,
     "metadata": {},
     "output_type": "execute_result"
    }
   ],
   "source": [
    "item.json()[0]['data']"
   ]
  },
  {
   "cell_type": "code",
   "execution_count": 30,
   "id": "27a1c0b3-5f61-43c0-afe2-09ef7ccd7741",
   "metadata": {
    "execution": {
     "iopub.execute_input": "2025-07-03T11:25:06.205794Z",
     "iopub.status.busy": "2025-07-03T11:25:06.205794Z",
     "iopub.status.idle": "2025-07-03T11:25:06.209782Z",
     "shell.execute_reply": "2025-07-03T11:25:06.209782Z",
     "shell.execute_reply.started": "2025-07-03T11:25:06.205794Z"
    }
   },
   "outputs": [],
   "source": [
    "doc_download='https://reportdocs.static.szse.cn'"
   ]
  },
  {
   "cell_type": "code",
   "execution_count": 32,
   "id": "c1ef6715-36fa-4566-8c55-530e26158834",
   "metadata": {
    "execution": {
     "iopub.execute_input": "2025-07-03T11:25:22.263704Z",
     "iopub.status.busy": "2025-07-03T11:25:22.262738Z",
     "iopub.status.idle": "2025-07-03T11:25:22.360044Z",
     "shell.execute_reply": "2025-07-03T11:25:22.359083Z",
     "shell.execute_reply.started": "2025-07-03T11:25:22.263704Z"
    }
   },
   "outputs": [],
   "source": [
    "doc_path=doc_download+doc_url\n",
    "doc_string=rq.get(doc_path)\n",
    "doc_file=open('files/tmp.doc','wb')\n",
    "doc_file.write(doc_string.content)\n",
    "doc_file.close()"
   ]
  },
  {
   "cell_type": "code",
   "execution_count": 45,
   "id": "259d0da6-8da9-4160-afba-13271a1e8af3",
   "metadata": {
    "execution": {
     "iopub.execute_input": "2025-07-04T11:30:05.731970Z",
     "iopub.status.busy": "2025-07-04T11:30:05.729974Z",
     "iopub.status.idle": "2025-07-04T11:30:05.832663Z",
     "shell.execute_reply": "2025-07-04T11:30:05.831767Z",
     "shell.execute_reply.started": "2025-07-04T11:30:05.731970Z"
    }
   },
   "outputs": [],
   "source": []
  },
  {
   "cell_type": "code",
   "execution_count": 43,
   "id": "9f08be88-d6a9-4957-87ed-392be0ba9514",
   "metadata": {
    "execution": {
     "iopub.execute_input": "2025-07-04T09:58:36.555276Z",
     "iopub.status.busy": "2025-07-04T09:58:36.555276Z",
     "iopub.status.idle": "2025-07-04T09:58:36.574254Z",
     "shell.execute_reply": "2025-07-04T09:58:36.573255Z",
     "shell.execute_reply.started": "2025-07-04T09:58:36.555276Z"
    }
   },
   "outputs": [],
   "source": [
    "prev, cur = 75, 76\n",
    "# align = Alignment(horizontal='general', vertical='center', wrap_text=True)\n",
    "for col in 'ABEFGHIJKL':\n",
    "    ws.merge_cells(f'{col}{prev}:{col}{cur}')\n",
    "    # ws[f'{col}{prev}'].value = ws[f'{col}{prev}'].value"
   ]
  },
  {
   "cell_type": "code",
   "execution_count": 44,
   "id": "17c280e0-cf58-4091-90dd-cd66b8a83e1d",
   "metadata": {
    "execution": {
     "iopub.execute_input": "2025-07-04T09:58:37.320323Z",
     "iopub.status.busy": "2025-07-04T09:58:37.320323Z",
     "iopub.status.idle": "2025-07-04T09:58:37.410167Z",
     "shell.execute_reply": "2025-07-04T09:58:37.409466Z",
     "shell.execute_reply.started": "2025-07-04T09:58:37.320323Z"
    }
   },
   "outputs": [],
   "source": [
    "wb.save('./doc/result.xlsx')\n",
    "wb.close()"
   ]
  },
  {
   "cell_type": "code",
   "execution_count": 8,
   "id": "431d4689-be4c-4441-b9af-fb18d8f81c54",
   "metadata": {
    "tags": []
   },
   "outputs": [],
   "source": [
    "def merge_cell():\n",
    "    wb = load_workbook('./doc/result.xlsx')\n",
    "    ws = wb.active\n",
    "    # align = Alignment(horizontal='general', vertical='center', wrap_text=True)\n",
    "    unique = {}\n",
    "    for i, row in enumerate(ws.iter_rows()):\n",
    "        if unique.get(row[0].value):\n",
    "            unique[row[0].value][1] = i + 1\n",
    "        else:\n",
    "            unique[row[0].value] = [i + 1, i + 1]\n",
    "    for k, (r1, r2) in unique.items():\n",
    "        print(f'merge {k} {r1}:{r2}')\n",
    "        for col in 'ABEFGHIJKL':\n",
    "            ws.merge_cells(f'{col}{r1}:{col}{r2}')\n",
    "    wb.save('./result1.xlsx')\n",
    "    wb.close()"
   ]
  },
  {
   "cell_type": "code",
   "execution_count": 9,
   "id": "ce245deb-7249-44fe-a7bb-4ba85e83aeb1",
   "metadata": {
    "scrolled": true,
    "tags": []
   },
   "outputs": [
    {
     "name": "stdout",
     "output_type": "stream",
     "text": [
      "merge 债券名 1:1\n",
      "merge 广东省广新控股集团有限公司2025年面向专业投资者公开发行公司债券 2:2\n",
      "merge 北京清新环境技术股份有限公司2025年面向专业投资者公开发行科技创新公司债券 3:3\n",
      "merge 成都成华旧城改造投资有限责任公司2025年面向专业投资者公开发行公司债券 4:4\n",
      "merge 东方财富证券股份有限公司2025年面向专业投资者公开发行科技创新公司债券 5:5\n",
      "merge 无锡威孚高科技集团股份有限公司2025年面向专业投资者公开发行科技创新公司债券 6:6\n",
      "merge 申万宏源证券有限公司2025年面向专业投资者公开发行公司债券 7:7\n",
      "merge 申万宏源证券有限公司2025年面向专业投资者公开发行次级债券 8:8\n",
      "merge 四川能源发展集团有限责任公司2025年面向专业投资者公开发行公司债券 9:9\n",
      "merge 深圳市龙岗金融投资控股有限公司2025年面向专业投资者公开发行公司债券 10:10\n",
      "merge 甘肃能化股份有限公司2025年面向专业投资者公开发行公司债券 11:11\n",
      "merge 广州地铁集团有限公司2025年面向专业投资者公开发行公司债券 12:12\n",
      "merge 华润置地控股有限公司2025年面向专业投资者公开发行公司债券 13:13\n",
      "merge 山西路桥建设集团有限公司2025年面向专业投资者公开发行公司债券 14:14\n",
      "merge 中材科技股份有限公司2025年面向专业投资者公开发行公司债券 15:15\n",
      "merge 广西交通投资集团有限公司2025年面向专业投资者公开发行公司债券 16:16\n",
      "merge 广东省高速公路有限公司2025年面向专业投资者公开发行公司债券 17:17\n",
      "merge 牧原食品股份有限公司2024年面向专业投资者公开发行公司债券 18:18\n",
      "merge 广发证券股份有限公司2025年面向专业投资者公开发行公司债券 19:19\n",
      "merge 招商局蛇口工业区控股股份有限公司2025年面向专业投资者公开发行公司债券 20:20\n",
      "merge 新疆金投资产管理股份有限公司2025年面向专业投资者公开发行公司债券 21:21\n",
      "merge 深圳市龙华建设发展集团有限公司2025年面向专业投资者公开发行公司债券 22:22\n",
      "merge 深圳市资本运营集团有限公司2025年面向专业投资者公开发行公司债券 23:23\n",
      "merge 中交资本控股有限公司2025年面向专业投资者公开发行公司债券 24:24\n",
      "merge 厦门火炬集团有限公司2024年面向专业投资者公开发行公司债券 25:25\n",
      "merge 建发房地产集团有限公司2025年面向专业投资者公开发行公司债券 26:26\n",
      "merge 湖北交通投资集团有限公司2025年面向专业投资者公开发行公司债券 27:27\n",
      "merge 江西省水利投资集团有限公司2025年面向专业投资者公开发行公司债券 28:28\n",
      "merge 广东省环保集团有限公司 2025 年面向专业投资者公开发行公司债券 29:29\n",
      "merge 深圳市特区建工集团有限公司2025年面向专业投资者公开发行公司债券 30:30\n",
      "merge 福州水务集团有限公司2025年面向专业投资者公开发行公司债券 31:31\n",
      "merge 广西宏桂资本运营集团有限公司2025年面向专业投资者公开发行公司债券 32:32\n",
      "merge 广东省粤科金融集团有限公司2025年面向专业投资者公开发行公司债券 33:33\n",
      "merge 攀钢集团有限公司2024年面向专业投资者公开发行公司债券 34:34\n",
      "merge 广州资产管理有限公司2025年面向专业投资者公开发行可续期公司债券 35:35\n",
      "merge 广发证券股份有限公司2025年面向专业投资者公开发行短期公司债券 36:36\n",
      "merge 山西证券股份有限公司2025年面向专业投资者公开发行公司债券 37:37\n",
      "merge 世纪证券有限责任公司2024年面向专业投资者公开发行公司债券 38:38\n",
      "merge 江西万年青水泥股份有限公司2025年面向专业投资者公开发行公司债券 39:39\n",
      "merge 深圳市宝安产业发展集团有限公司2025年面向专业投资者公开发行公司债券 40:40\n",
      "merge 福建省投资开发集团有限责任公司2025年面向专业投资者公开发行公司债券 41:41\n",
      "merge 绍兴市金融控股有限公司2025年面向专业投资者公开发行科技创新公司债券 42:42\n",
      "merge 四川发展融资担保股份有限公司2025年面向专业投资者公开发行可续期公司债券 43:43\n",
      "merge 浙江省建设投资集团股份有限公司2025年面向专业投资者公开发行公司债券 44:44\n",
      "merge 深圳市怡亚通供应链股份有限公司2025年面向专业投资者公开发行公司债券 45:45\n",
      "merge 浙江省旅游投资集团有限公司2025年面向专业投资者公开发行公司债券 46:46\n",
      "merge 国元证券股份有限公司2025年面向专业投资者公开发行次级债券 47:47\n",
      "merge 湖北澴川国有资本投资运营集团有限公司2024年面向专业投资者公开发行企业债券 48:48\n",
      "merge 东方财富证券股份有限公司2025年面向专业投资者公开发行公司债券 49:49\n",
      "merge 国信证券股份有限公司2025年面向专业投资者公开发行永续次级债券 50:50\n",
      "merge 厦门金圆投资集团有限公司2025年面向专业投资者公开发行公司债券 51:51\n",
      "merge 福州市金融控股集团有限公司2025年面向专业投资者公开发行公司债券 52:52\n",
      "merge 矿冶科技集团有限公司2024年面向专业投资者公开发行科技创新公司债券 53:53\n",
      "merge 南平武夷发展集团有限公司2025年面向专业投资者公开发行公司债券 54:54\n",
      "merge 成都环境投资集团有限公司2025年面向专业投资者公开发行公司债券 55:55\n",
      "merge 江西赣能股份有限公司2024年面向专业投资者公开发行公司债券 56:56\n",
      "merge 中国南方电网有限责任公司面向专业投资者公开发行2025年公司债券 57:57\n",
      "merge 成都环境投资集团有限公司2025年面向专业投资者公开发行可续期公司债券 58:58\n",
      "merge 广州交通投资集团有限公司2025年面向专业投资者公开发行公司债券 59:59\n",
      "merge 陕西金融控股集团有限公司2024年面向专业投资者公开发行公司债券（第二期） 60:60\n",
      "merge 蜀道资本控股集团有限公司2024年面向专业投资者公开发行公司债券 61:61\n",
      "merge 华润金控投资有限公司2024年面向专业投资者公开发行公司债券 62:62\n",
      "merge 新疆立新能源股份有限公司2025年面向专业投资者公开发行公司债券 63:63\n",
      "merge 新疆立新能源股份有限公司2025年面向专业投资者公开发行可续期公司债券 64:64\n",
      "merge 长城证券股份有限公司2024年面向专业投资者公开发行公司债券 65:65\n",
      "merge 华西证券股份有限公司2025年面向专业投资者公开发行公司债券 66:66\n",
      "merge 华西证券股份有限公司2025年面向专业投资者公开发行次级债券 67:67\n",
      "merge 成都交子金融控股集团有限公司2025年面向专业投资者公开发行公司债券 68:68\n",
      "merge 招商局港口集团股份有限公司2025年面向专业投资者公开发行公司债券 69:69\n",
      "merge 国元证券股份有限公司2024年面向专业投资者公开发行公司债券 70:70\n",
      "merge 中建国际投资集团有限公司2024年面向专业投资者公开发行公司债券 71:71\n",
      "merge 丰城发展投资控股集团有限公司2024年面向专业投资者公开发行企业债券 72:72\n",
      "merge 连云港市金融控股集团有限公司2024年面向专业投资者公开发行公司债券 73:73\n",
      "merge 广州资产管理有限公司2024年面向专业投资者公开发行公司债券 74:74\n",
      "merge 宜宾市科教产业投资集团有限公司2024年面向专业投资者公开发行企业债券 75:76\n",
      "merge 中伟新材料股份有限公司2024年面向专业投资者公开发行可续期公司债券（一带一路） 77:77\n",
      "merge 宜宾天原集团股份有限公司2024年面向专业投资者公开发行科技创新公司债券 78:78\n",
      "merge 中海企业发展集团有限公司2024年面向专业投资者公开发行公司债券 79:79\n",
      "merge 珠海华发集团有限公司2024年面向专业投资者公开发行公司债券 80:80\n",
      "merge 成都天府新区投资集团有限公司2024年面向专业投资者公开发行可续期公司债券 81:81\n",
      "merge 广州越秀融资租赁有限公司2024年面向专业投资者公开发行公司债券 82:82\n",
      "merge 珠海华发集团有限公司2024年面向专业投资者公开发行可续期公司债券 83:83\n",
      "merge 成都天府新区投资集团有限公司2024年面向专业投资者公开发行公司债券 84:84\n",
      "merge 广东省环保集团有限公司2024年面向专业投资者公开发行企业债券 85:85\n",
      "merge 成都交子新兴金融投资集团股份有限公司2024年面向专业投资者公开发行公司债券 86:86\n",
      "merge 蜀道投资集团有限责任公司2024年面向专业投资者公开发行可续期公司债券 87:87\n",
      "merge 北京未来科学城发展集团有限公司2024年面向专业投资者公开发行公司债券 88:88\n",
      "merge 现代投资股份有限公司2024年面向专业投资者公开发行公司债券 89:89\n",
      "merge 广州交通投资集团有限公司2024年面向专业投资者公开发行公司债券（第二次） 90:90\n",
      "merge 无锡经开雪浪小镇未来园区有限公司2023年面向专业投资者公开发行企业债券 91:91\n",
      "merge 成都天府农博乡村发展集团有限公司2024年面向专业投资者公开发行企业债券 92:92\n",
      "merge 东营市财金投资集团有限公司2024年面向专业投资者公开发行企业债券 93:93\n",
      "merge 招商局公路网络科技控股股份有限公司2024年面向专业投资者公开发行公司债券 94:94\n",
      "merge 中节能太阳能股份有限公司2024年面向专业投资者公开发行科技创新公司债券 95:95\n",
      "merge 国海证券股份有限公司2024年面向专业投资者公开发行公司债券 96:96\n",
      "merge 中国石油集团资本有限责任公司2024年面向专业投资者公开发行公司债券 97:97\n",
      "merge 湖南钢铁集团有限公司2024年面向专业投资者公开发行公司债券 98:98\n",
      "merge 城发环境股份有限公司2024年面向专业投资者公开发行公司债券 99:99\n",
      "merge 成都市兴蓉环境股份有限公司2024年面向专业投资者公开发行公司债券 100:100\n",
      "merge 粤开证券股份有限公司2024年面向专业投资者公开发行公司债券 101:101\n",
      "merge 珠海华发科技产业集团有限公司2024年面向专业投资者公开发行科技创新公司债券 102:104\n"
     ]
    }
   ],
   "source": [
    "merge_cell()"
   ]
  },
  {
   "cell_type": "code",
   "execution_count": 36,
   "id": "16b00b74-75be-4707-af49-bad0b7d71397",
   "metadata": {
    "execution": {
     "iopub.execute_input": "2025-07-04T09:54:13.351252Z",
     "iopub.status.busy": "2025-07-04T09:54:13.350213Z",
     "iopub.status.idle": "2025-07-04T09:54:13.360185Z",
     "shell.execute_reply": "2025-07-04T09:54:13.359187Z",
     "shell.execute_reply.started": "2025-07-04T09:54:13.351252Z"
    }
   },
   "outputs": [
    {
     "data": {
      "text/plain": [
       "'2025-02-14'"
      ]
     },
     "execution_count": 36,
     "metadata": {},
     "output_type": "execute_result"
    }
   ],
   "source": [
    "ws['L75'].value"
   ]
  },
  {
   "cell_type": "code",
   "execution_count": 37,
   "id": "84d7de53-79c0-4e0b-bbc5-2da7fff270e0",
   "metadata": {
    "execution": {
     "iopub.execute_input": "2025-07-04T09:54:19.955989Z",
     "iopub.status.busy": "2025-07-04T09:54:19.955989Z",
     "iopub.status.idle": "2025-07-04T09:54:19.972346Z",
     "shell.execute_reply": "2025-07-04T09:54:19.971369Z",
     "shell.execute_reply.started": "2025-07-04T09:54:19.955989Z"
    }
   },
   "outputs": [],
   "source": [
    "ws['L76'].value"
   ]
  },
  {
   "cell_type": "code",
   "execution_count": 25,
   "id": "040f90c2-ea31-41f7-a1d4-13ebe374ac5d",
   "metadata": {
    "execution": {
     "iopub.execute_input": "2025-07-04T09:49:41.820681Z",
     "iopub.status.busy": "2025-07-04T09:49:41.819684Z",
     "iopub.status.idle": "2025-07-04T09:49:41.830654Z",
     "shell.execute_reply": "2025-07-04T09:49:41.829680Z",
     "shell.execute_reply.started": "2025-07-04T09:49:41.820681Z"
    }
   },
   "outputs": [
    {
     "data": {
      "text/plain": [
       "'L75:L76'"
      ]
     },
     "execution_count": 25,
     "metadata": {},
     "output_type": "execute_result"
    }
   ],
   "source": [
    "f'{col}{prev}:{col}{cur}'"
   ]
  },
  {
   "cell_type": "code",
   "execution_count": 31,
   "id": "244ac888-6376-408a-82b7-16a5ad53dbfe",
   "metadata": {
    "execution": {
     "iopub.execute_input": "2025-07-04T09:50:54.387114Z",
     "iopub.status.busy": "2025-07-04T09:50:54.387114Z",
     "iopub.status.idle": "2025-07-04T09:50:54.407059Z",
     "shell.execute_reply": "2025-07-04T09:50:54.406089Z",
     "shell.execute_reply.started": "2025-07-04T09:50:54.387114Z"
    }
   },
   "outputs": [
    {
     "data": {
      "text/plain": [
       "<generator object Worksheet._cells_by_col at 0x000001335BFEA5F0>"
      ]
     },
     "execution_count": 31,
     "metadata": {},
     "output_type": "execute_result"
    }
   ],
   "source": []
  },
  {
   "cell_type": "code",
   "execution_count": null,
   "id": "d63dfafe-73e9-4298-a560-21b0c0891187",
   "metadata": {},
   "outputs": [],
   "source": []
  }
 ],
 "metadata": {
  "kernelspec": {
   "display_name": "Python [conda env:root] *",
   "language": "python",
   "name": "conda-root-py"
  },
  "language_info": {
   "codemirror_mode": {
    "name": "ipython",
    "version": 3
   },
   "file_extension": ".py",
   "mimetype": "text/x-python",
   "name": "python",
   "nbconvert_exporter": "python",
   "pygments_lexer": "ipython3",
   "version": "3.11.4"
  }
 },
 "nbformat": 4,
 "nbformat_minor": 5
}
