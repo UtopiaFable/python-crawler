{
 "cells": [
  {
   "cell_type": "code",
   "execution_count": 9,
   "id": "5c6777bf-77e0-41e3-a458-cd5d2b6b48ad",
   "metadata": {
    "execution": {
     "iopub.execute_input": "2025-07-04T08:42:50.251750Z",
     "iopub.status.busy": "2025-07-04T08:42:50.250753Z",
     "iopub.status.idle": "2025-07-04T08:42:50.585174Z",
     "shell.execute_reply": "2025-07-04T08:42:50.584485Z",
     "shell.execute_reply.started": "2025-07-04T08:42:50.251750Z"
    }
   },
   "outputs": [],
   "source": [
    "import re\n",
    "import requests as rq\n",
    "import random\n",
    "import json\n",
    "from urllib.parse import unquote,quote"
   ]
  },
  {
   "cell_type": "code",
   "execution_count": 10,
   "id": "44ac0c2c-7761-450e-9d73-f55ebeed275d",
   "metadata": {
    "execution": {
     "iopub.execute_input": "2025-07-04T08:42:51.927965Z",
     "iopub.status.busy": "2025-07-04T08:42:51.926965Z",
     "iopub.status.idle": "2025-07-04T08:42:52.028931Z",
     "shell.execute_reply": "2025-07-04T08:42:52.027957Z",
     "shell.execute_reply.started": "2025-07-04T08:42:51.927965Z"
    }
   },
   "outputs": [],
   "source": [
    "from bs4 import BeautifulSoup"
   ]
  },
  {
   "cell_type": "code",
   "execution_count": 11,
   "id": "29839a7b-5daa-4110-b8c7-079f50c28e26",
   "metadata": {
    "execution": {
     "iopub.execute_input": "2025-07-04T08:42:52.672712Z",
     "iopub.status.busy": "2025-07-04T08:42:52.672712Z",
     "iopub.status.idle": "2025-07-04T08:42:52.679292Z",
     "shell.execute_reply": "2025-07-04T08:42:52.678788Z",
     "shell.execute_reply.started": "2025-07-04T08:42:52.672712Z"
    }
   },
   "outputs": [],
   "source": [
    "index=\"https://bond.szse.cn/api/report/ShowReport/data\""
   ]
  },
  {
   "cell_type": "code",
   "execution_count": 12,
   "id": "4e3d105e-d789-4704-93f4-be7ee36db6b2",
   "metadata": {
    "execution": {
     "iopub.execute_input": "2025-07-04T08:42:53.344863Z",
     "iopub.status.busy": "2025-07-04T08:42:53.343899Z",
     "iopub.status.idle": "2025-07-04T08:42:53.360973Z",
     "shell.execute_reply": "2025-07-04T08:42:53.359976Z",
     "shell.execute_reply.started": "2025-07-04T08:42:53.344863Z"
    }
   },
   "outputs": [],
   "source": [
    "head={\"User-Agent\":\"Mozilla/5.0 (Windows NT 10.0; WOW64) AppleWebKit/537.36 (KHTML, like Gecko) Chrome/78.0.3904.108 Safari/537.36\",\n",
    "      \"Content-Type\":\"application/json\"}"
   ]
  },
  {
   "cell_type": "code",
   "execution_count": 13,
   "id": "ad5d8a43-71c9-4976-84e6-86370a65d363",
   "metadata": {
    "execution": {
     "iopub.execute_input": "2025-07-04T08:42:56.783443Z",
     "iopub.status.busy": "2025-07-04T08:42:56.783443Z",
     "iopub.status.idle": "2025-07-04T08:42:57.140436Z",
     "shell.execute_reply": "2025-07-04T08:42:57.140436Z",
     "shell.execute_reply.started": "2025-07-04T08:42:56.783443Z"
    }
   },
   "outputs": [],
   "source": [
    "data={\n",
    "    'SHOWTYPE': 'JSON',\n",
    "    'CATALOGID': 'xmjdxx',\n",
    "    'TABKEY': 'tab1',\n",
    "    'zqlb': '0',\n",
    "    'PAGENO': '1',\n",
    "    'selectXmztt': '已反馈,通过,提交注册,注册生效,终止'\n",
    "}\n",
    "reports=rq.get(index,params=data)"
   ]
  },
  {
   "cell_type": "code",
   "execution_count": 14,
   "id": "aee88b07-0202-4054-9272-e09c69093904",
   "metadata": {
    "execution": {
     "iopub.execute_input": "2025-07-04T08:43:00.041496Z",
     "iopub.status.busy": "2025-07-04T08:43:00.041496Z",
     "iopub.status.idle": "2025-07-04T08:43:00.051469Z",
     "shell.execute_reply": "2025-07-04T08:43:00.050472Z",
     "shell.execute_reply.started": "2025-07-04T08:43:00.041496Z"
    }
   },
   "outputs": [
    {
     "data": {
      "text/plain": [
       "{'rowid': '1',\n",
       " 'zqmc': \"<a href='javascript:void(0);' a-back=1 a-param='/ShowReport/data?SHOWTYPE=JSON&CATALOGID=xmjdxx_xgmxq&xmbh=A553BB9448304D23944E094C1ACD173F&type=1'>广东省广新控股集团有限公司2025年面向专业投资者公开发行公司债券</a>\",\n",
       " 'cxsjc': \"<a target='_blank' href='http://bond.szse.cn/disclosure/progressinfo/query/index.html?txtCxs=%E4%B8%AD%E4%BF%A1%E8%AF%81%E5%88%B8'>中信证券</a>,<a target='_blank' href='http://bond.szse.cn/disclosure/progressinfo/query/index.html?txtCxs=%E5%8D%8E%E6%B3%B0%E8%81%94%E5%90%88'>华泰联合</a>,<a target='_blank' href='http://bond.szse.cn/disclosure/progressinfo/query/index.html?txtCxs=%E5%B9%BF%E5%8F%91%E8%AF%81%E5%88%B8'>广发证券</a>,<a target='_blank' href='http://bond.szse.cn/disclosure/progressinfo/query/index.html?txtCxs=%E4%B8%AD%E4%BF%A1%E5%BB%BA%E6%8A%95'>中信建投</a>,<a target='_blank' href='http://bond.szse.cn/disclosure/progressinfo/query/index.html?txtCxs=%E5%85%B4%E4%B8%9A%E8%AF%81%E5%88%B8'>兴业证券</a>,<a target='_blank' href='http://bond.szse.cn/disclosure/progressinfo/query/index.html?txtCxs=%E7%94%B3%E4%B8%87%E5%AE%8F%E6%BA%90'>申万宏源</a>,<a target='_blank' href='http://bond.szse.cn/disclosure/progressinfo/query/index.html?txtCxs=%E4%B8%87%E8%81%94%E8%AF%81%E5%88%B8'>万联证券</a>,<a target='_blank' href='http://bond.szse.cn/disclosure/progressinfo/query/index.html?txtCxs=%E6%8B%9B%E5%95%86%E8%AF%81%E5%88%B8'>招商证券</a>\",\n",
       " 'zqlb': '小公募',\n",
       " 'nfxje': '150.00',\n",
       " 'xmzt': '通过',\n",
       " 'xmslrq': '2025-06-27',\n",
       " 'xmztgxrq': '2025-07-03'}"
      ]
     },
     "execution_count": 14,
     "metadata": {},
     "output_type": "execute_result"
    }
   ],
   "source": [
    "reports.json()[0]['data'][0]"
   ]
  },
  {
   "cell_type": "code",
   "execution_count": 15,
   "id": "a45736f7-2a90-487f-81bc-8ee0032b88ff",
   "metadata": {
    "execution": {
     "iopub.execute_input": "2025-07-04T08:43:00.928594Z",
     "iopub.status.busy": "2025-07-04T08:43:00.928594Z",
     "iopub.status.idle": "2025-07-04T08:43:00.943613Z",
     "shell.execute_reply": "2025-07-04T08:43:00.942630Z",
     "shell.execute_reply.started": "2025-07-04T08:43:00.928594Z"
    }
   },
   "outputs": [
    {
     "data": {
      "text/plain": [
       "('/ShowReport/data?SHOWTYPE=JSON&CATALOGID=xmjdxx_xgmxq&xmbh=A553BB9448304D23944E094C1ACD173F&type=1',\n",
       " '广东省广新控股集团有限公司2025年面向专业投资者公开发行公司债券')"
      ]
     },
     "execution_count": 15,
     "metadata": {},
     "output_type": "execute_result"
    }
   ],
   "source": [
    "soup = BeautifulSoup(reports.json()[0]['data'][0]['zqmc'], 'html.parser').find('a')\n",
    "soup.get('a-param'), soup.string"
   ]
  },
  {
   "cell_type": "code",
   "execution_count": 16,
   "id": "c9be3ef2-9e5d-4011-81cc-c3739f8d4101",
   "metadata": {
    "execution": {
     "iopub.execute_input": "2025-07-04T08:43:07.033337Z",
     "iopub.status.busy": "2025-07-04T08:43:07.033337Z",
     "iopub.status.idle": "2025-07-04T08:43:07.241456Z",
     "shell.execute_reply": "2025-07-04T08:43:07.239417Z",
     "shell.execute_reply.started": "2025-07-04T08:43:07.033337Z"
    }
   },
   "outputs": [],
   "source": [
    "item=rq.get(index+'?'+soup.get('a-param').split('?')[1])"
   ]
  },
  {
   "cell_type": "code",
   "execution_count": 25,
   "id": "b32a0ca7-1e7c-4b3c-8d36-a6b6d340a461",
   "metadata": {
    "execution": {
     "iopub.execute_input": "2025-07-03T11:23:40.766841Z",
     "iopub.status.busy": "2025-07-03T11:23:40.766841Z",
     "iopub.status.idle": "2025-07-03T11:23:40.784070Z",
     "shell.execute_reply": "2025-07-03T11:23:40.783071Z",
     "shell.execute_reply.started": "2025-07-03T11:23:40.766841Z"
    },
    "scrolled": true
   },
   "outputs": [],
   "source": [
    "doc_url=BeautifulSoup(item.json()[2]['data'][0]['fkyjh'], 'html.parser').find('a').get('encode-open')"
   ]
  },
  {
   "cell_type": "code",
   "execution_count": 17,
   "id": "c73d4693-a7c1-4277-9d29-a1e1817403c2",
   "metadata": {
    "execution": {
     "iopub.execute_input": "2025-07-04T08:45:43.204122Z",
     "iopub.status.busy": "2025-07-04T08:45:43.204122Z",
     "iopub.status.idle": "2025-07-04T08:45:43.211132Z",
     "shell.execute_reply": "2025-07-04T08:45:43.210220Z",
     "shell.execute_reply.started": "2025-07-04T08:45:43.204122Z"
    }
   },
   "outputs": [
    {
     "data": {
      "text/plain": [
       "[{'zqmc': '广东省广新控股集团有限公司2025年面向专业投资者公开发行公司债券',\n",
       "  'zqlb': '小公募',\n",
       "  'nfxje': '150.00',\n",
       "  'fxr': '广东省广新控股集团有限公司',\n",
       "  'dq': '广东',\n",
       "  'cxsqc': '中信证券股份有限公司,华泰联合证券有限责任公司,广发证券股份有限公司,中信建投证券股份有限公司,兴业证券股份有限公司,申万宏源证券有限公司,万联证券股份有限公司,招商证券股份有限公司',\n",
       "  'xmzt': '通过',\n",
       "  'jysqrwjwh': '',\n",
       "  'xmslrq': '2025-06-27',\n",
       "  'xmztgxrq': '2025-07-03'}]"
      ]
     },
     "execution_count": 17,
     "metadata": {},
     "output_type": "execute_result"
    }
   ],
   "source": [
    "item.json()[0]['data']"
   ]
  },
  {
   "cell_type": "code",
   "execution_count": 30,
   "id": "27a1c0b3-5f61-43c0-afe2-09ef7ccd7741",
   "metadata": {
    "execution": {
     "iopub.execute_input": "2025-07-03T11:25:06.205794Z",
     "iopub.status.busy": "2025-07-03T11:25:06.205794Z",
     "iopub.status.idle": "2025-07-03T11:25:06.209782Z",
     "shell.execute_reply": "2025-07-03T11:25:06.209782Z",
     "shell.execute_reply.started": "2025-07-03T11:25:06.205794Z"
    }
   },
   "outputs": [],
   "source": [
    "doc_download='https://reportdocs.static.szse.cn'"
   ]
  },
  {
   "cell_type": "code",
   "execution_count": 32,
   "id": "c1ef6715-36fa-4566-8c55-530e26158834",
   "metadata": {
    "execution": {
     "iopub.execute_input": "2025-07-03T11:25:22.263704Z",
     "iopub.status.busy": "2025-07-03T11:25:22.262738Z",
     "iopub.status.idle": "2025-07-03T11:25:22.360044Z",
     "shell.execute_reply": "2025-07-03T11:25:22.359083Z",
     "shell.execute_reply.started": "2025-07-03T11:25:22.263704Z"
    }
   },
   "outputs": [],
   "source": [
    "doc_path=doc_download+doc_url\n",
    "doc_string=rq.get(doc_path)\n",
    "doc_file=open('files/tmp.doc','wb')\n",
    "doc_file.write(doc_string.content)\n",
    "doc_file.close()"
   ]
  },
  {
   "cell_type": "code",
   "execution_count": 45,
   "id": "259d0da6-8da9-4160-afba-13271a1e8af3",
   "metadata": {
    "execution": {
     "iopub.execute_input": "2025-07-04T11:30:05.731970Z",
     "iopub.status.busy": "2025-07-04T11:30:05.729974Z",
     "iopub.status.idle": "2025-07-04T11:30:05.832663Z",
     "shell.execute_reply": "2025-07-04T11:30:05.831767Z",
     "shell.execute_reply.started": "2025-07-04T11:30:05.731970Z"
    }
   },
   "outputs": [],
   "source": [
    "from openpyxl import load_workbook\n",
    "wb = load_workbook('./doc/result.xlsx')\n",
    "ws = wb.active"
   ]
  },
  {
   "cell_type": "code",
   "execution_count": 43,
   "id": "9f08be88-d6a9-4957-87ed-392be0ba9514",
   "metadata": {
    "execution": {
     "iopub.execute_input": "2025-07-04T09:58:36.555276Z",
     "iopub.status.busy": "2025-07-04T09:58:36.555276Z",
     "iopub.status.idle": "2025-07-04T09:58:36.574254Z",
     "shell.execute_reply": "2025-07-04T09:58:36.573255Z",
     "shell.execute_reply.started": "2025-07-04T09:58:36.555276Z"
    }
   },
   "outputs": [],
   "source": [
    "prev, cur = 75, 76\n",
    "# align = Alignment(horizontal='general', vertical='center', wrap_text=True)\n",
    "for col in 'ABEFGHIJKL':\n",
    "    ws.merge_cells(f'{col}{prev}:{col}{cur}')\n",
    "    # ws[f'{col}{prev}'].value = ws[f'{col}{prev}'].value"
   ]
  },
  {
   "cell_type": "code",
   "execution_count": 44,
   "id": "17c280e0-cf58-4091-90dd-cd66b8a83e1d",
   "metadata": {
    "execution": {
     "iopub.execute_input": "2025-07-04T09:58:37.320323Z",
     "iopub.status.busy": "2025-07-04T09:58:37.320323Z",
     "iopub.status.idle": "2025-07-04T09:58:37.410167Z",
     "shell.execute_reply": "2025-07-04T09:58:37.409466Z",
     "shell.execute_reply.started": "2025-07-04T09:58:37.320323Z"
    }
   },
   "outputs": [],
   "source": [
    "wb.save('./doc/result.xlsx')\n",
    "wb.close()"
   ]
  },
  {
   "cell_type": "code",
   "execution_count": 81,
   "id": "431d4689-be4c-4441-b9af-fb18d8f81c54",
   "metadata": {
    "execution": {
     "iopub.execute_input": "2025-07-04T12:17:00.526154Z",
     "iopub.status.busy": "2025-07-04T12:17:00.525156Z",
     "iopub.status.idle": "2025-07-04T12:17:00.540116Z",
     "shell.execute_reply": "2025-07-04T12:17:00.539142Z",
     "shell.execute_reply.started": "2025-07-04T12:17:00.525156Z"
    }
   },
   "outputs": [],
   "source": [
    "def merge_cell():\n",
    "    wb = load_workbook('./doc/result.xlsx')\n",
    "    ws = wb.active\n",
    "    # align = Alignment(horizontal='general', vertical='center', wrap_text=True)\n",
    "    unique = []\n",
    "    prev = '债券名'\n",
    "    for i, row in enumerate(ws.iter_rows()):\n",
    "        if row[0].value != prev:\n",
    "            print(i, prev, row[0].value)\n",
    "            prev = row[0].value\n",
    "            unique.append(i)\n",
    "    if row[0].value == prev:\n",
    "        unique.append(i + 1)\n",
    "    print(unique)\n",
    "    for i in range(len(unique)-1):\n",
    "        print(f'merge {unique[i]}:{unique[i+1]-1}')\n",
    "        for col in 'ABEFGHIJKL':\n",
    "            ws.merge_cells(f'{col}{unique[i]}:{col}{unique[i+1]-1}')\n",
    "    wb.save('./doc/result1.xlsx')\n",
    "    wb.close()"
   ]
  },
  {
   "cell_type": "code",
   "execution_count": 82,
   "id": "ce245deb-7249-44fe-a7bb-4ba85e83aeb1",
   "metadata": {
    "execution": {
     "iopub.execute_input": "2025-07-04T12:17:01.324574Z",
     "iopub.status.busy": "2025-07-04T12:17:01.323605Z",
     "iopub.status.idle": "2025-07-04T12:17:01.932354Z",
     "shell.execute_reply": "2025-07-04T12:17:01.929365Z",
     "shell.execute_reply.started": "2025-07-04T12:17:01.324574Z"
    },
    "scrolled": true
   },
   "outputs": [
    {
     "name": "stdout",
     "output_type": "stream",
     "text": [
      "1 债券名 广东省广新控股集团有限公司2025年面向专业投资者公开发行公司债券\n",
      "2 广东省广新控股集团有限公司2025年面向专业投资者公开发行公司债券 北京清新环境技术股份有限公司2025年面向专业投资者公开发行科技创新公司债券\n",
      "3 北京清新环境技术股份有限公司2025年面向专业投资者公开发行科技创新公司债券 成都成华旧城改造投资有限责任公司2025年面向专业投资者公开发行公司债券\n",
      "4 成都成华旧城改造投资有限责任公司2025年面向专业投资者公开发行公司债券 东方财富证券股份有限公司2025年面向专业投资者公开发行科技创新公司债券\n",
      "5 东方财富证券股份有限公司2025年面向专业投资者公开发行科技创新公司债券 无锡威孚高科技集团股份有限公司2025年面向专业投资者公开发行科技创新公司债券\n",
      "6 无锡威孚高科技集团股份有限公司2025年面向专业投资者公开发行科技创新公司债券 申万宏源证券有限公司2025年面向专业投资者公开发行公司债券\n",
      "7 申万宏源证券有限公司2025年面向专业投资者公开发行公司债券 申万宏源证券有限公司2025年面向专业投资者公开发行次级债券\n",
      "8 申万宏源证券有限公司2025年面向专业投资者公开发行次级债券 四川能源发展集团有限责任公司2025年面向专业投资者公开发行公司债券\n",
      "9 四川能源发展集团有限责任公司2025年面向专业投资者公开发行公司债券 深圳市龙岗金融投资控股有限公司2025年面向专业投资者公开发行公司债券\n",
      "10 深圳市龙岗金融投资控股有限公司2025年面向专业投资者公开发行公司债券 甘肃能化股份有限公司2025年面向专业投资者公开发行公司债券\n",
      "11 甘肃能化股份有限公司2025年面向专业投资者公开发行公司债券 广州地铁集团有限公司2025年面向专业投资者公开发行公司债券\n",
      "12 广州地铁集团有限公司2025年面向专业投资者公开发行公司债券 华润置地控股有限公司2025年面向专业投资者公开发行公司债券\n",
      "13 华润置地控股有限公司2025年面向专业投资者公开发行公司债券 山西路桥建设集团有限公司2025年面向专业投资者公开发行公司债券\n",
      "14 山西路桥建设集团有限公司2025年面向专业投资者公开发行公司债券 中材科技股份有限公司2025年面向专业投资者公开发行公司债券\n",
      "15 中材科技股份有限公司2025年面向专业投资者公开发行公司债券 广西交通投资集团有限公司2025年面向专业投资者公开发行公司债券\n",
      "16 广西交通投资集团有限公司2025年面向专业投资者公开发行公司债券 广东省高速公路有限公司2025年面向专业投资者公开发行公司债券\n",
      "17 广东省高速公路有限公司2025年面向专业投资者公开发行公司债券 牧原食品股份有限公司2024年面向专业投资者公开发行公司债券\n",
      "18 牧原食品股份有限公司2024年面向专业投资者公开发行公司债券 广发证券股份有限公司2025年面向专业投资者公开发行公司债券\n",
      "19 广发证券股份有限公司2025年面向专业投资者公开发行公司债券 招商局蛇口工业区控股股份有限公司2025年面向专业投资者公开发行公司债券\n",
      "20 招商局蛇口工业区控股股份有限公司2025年面向专业投资者公开发行公司债券 新疆金投资产管理股份有限公司2025年面向专业投资者公开发行公司债券\n",
      "21 新疆金投资产管理股份有限公司2025年面向专业投资者公开发行公司债券 深圳市龙华建设发展集团有限公司2025年面向专业投资者公开发行公司债券\n",
      "22 深圳市龙华建设发展集团有限公司2025年面向专业投资者公开发行公司债券 深圳市资本运营集团有限公司2025年面向专业投资者公开发行公司债券\n",
      "23 深圳市资本运营集团有限公司2025年面向专业投资者公开发行公司债券 中交资本控股有限公司2025年面向专业投资者公开发行公司债券\n",
      "24 中交资本控股有限公司2025年面向专业投资者公开发行公司债券 厦门火炬集团有限公司2024年面向专业投资者公开发行公司债券\n",
      "25 厦门火炬集团有限公司2024年面向专业投资者公开发行公司债券 建发房地产集团有限公司2025年面向专业投资者公开发行公司债券\n",
      "26 建发房地产集团有限公司2025年面向专业投资者公开发行公司债券 湖北交通投资集团有限公司2025年面向专业投资者公开发行公司债券\n",
      "27 湖北交通投资集团有限公司2025年面向专业投资者公开发行公司债券 江西省水利投资集团有限公司2025年面向专业投资者公开发行公司债券\n",
      "28 江西省水利投资集团有限公司2025年面向专业投资者公开发行公司债券 广东省环保集团有限公司 2025 年面向专业投资者公开发行公司债券\n",
      "29 广东省环保集团有限公司 2025 年面向专业投资者公开发行公司债券 深圳市特区建工集团有限公司2025年面向专业投资者公开发行公司债券\n",
      "30 深圳市特区建工集团有限公司2025年面向专业投资者公开发行公司债券 福州水务集团有限公司2025年面向专业投资者公开发行公司债券\n",
      "31 福州水务集团有限公司2025年面向专业投资者公开发行公司债券 广西宏桂资本运营集团有限公司2025年面向专业投资者公开发行公司债券\n",
      "32 广西宏桂资本运营集团有限公司2025年面向专业投资者公开发行公司债券 广东省粤科金融集团有限公司2025年面向专业投资者公开发行公司债券\n",
      "33 广东省粤科金融集团有限公司2025年面向专业投资者公开发行公司债券 攀钢集团有限公司2024年面向专业投资者公开发行公司债券\n",
      "34 攀钢集团有限公司2024年面向专业投资者公开发行公司债券 广州资产管理有限公司2025年面向专业投资者公开发行可续期公司债券\n",
      "35 广州资产管理有限公司2025年面向专业投资者公开发行可续期公司债券 广发证券股份有限公司2025年面向专业投资者公开发行短期公司债券\n",
      "36 广发证券股份有限公司2025年面向专业投资者公开发行短期公司债券 山西证券股份有限公司2025年面向专业投资者公开发行公司债券\n",
      "37 山西证券股份有限公司2025年面向专业投资者公开发行公司债券 世纪证券有限责任公司2024年面向专业投资者公开发行公司债券\n",
      "38 世纪证券有限责任公司2024年面向专业投资者公开发行公司债券 江西万年青水泥股份有限公司2025年面向专业投资者公开发行公司债券\n",
      "39 江西万年青水泥股份有限公司2025年面向专业投资者公开发行公司债券 深圳市宝安产业发展集团有限公司2025年面向专业投资者公开发行公司债券\n",
      "40 深圳市宝安产业发展集团有限公司2025年面向专业投资者公开发行公司债券 福建省投资开发集团有限责任公司2025年面向专业投资者公开发行公司债券\n",
      "41 福建省投资开发集团有限责任公司2025年面向专业投资者公开发行公司债券 绍兴市金融控股有限公司2025年面向专业投资者公开发行科技创新公司债券\n",
      "42 绍兴市金融控股有限公司2025年面向专业投资者公开发行科技创新公司债券 四川发展融资担保股份有限公司2025年面向专业投资者公开发行可续期公司债券\n",
      "43 四川发展融资担保股份有限公司2025年面向专业投资者公开发行可续期公司债券 浙江省建设投资集团股份有限公司2025年面向专业投资者公开发行公司债券\n",
      "44 浙江省建设投资集团股份有限公司2025年面向专业投资者公开发行公司债券 深圳市怡亚通供应链股份有限公司2025年面向专业投资者公开发行公司债券\n",
      "45 深圳市怡亚通供应链股份有限公司2025年面向专业投资者公开发行公司债券 浙江省旅游投资集团有限公司2025年面向专业投资者公开发行公司债券\n",
      "46 浙江省旅游投资集团有限公司2025年面向专业投资者公开发行公司债券 国元证券股份有限公司2025年面向专业投资者公开发行次级债券\n",
      "47 国元证券股份有限公司2025年面向专业投资者公开发行次级债券 湖北澴川国有资本投资运营集团有限公司2024年面向专业投资者公开发行企业债券\n",
      "48 湖北澴川国有资本投资运营集团有限公司2024年面向专业投资者公开发行企业债券 东方财富证券股份有限公司2025年面向专业投资者公开发行公司债券\n",
      "49 东方财富证券股份有限公司2025年面向专业投资者公开发行公司债券 国信证券股份有限公司2025年面向专业投资者公开发行永续次级债券\n",
      "50 国信证券股份有限公司2025年面向专业投资者公开发行永续次级债券 厦门金圆投资集团有限公司2025年面向专业投资者公开发行公司债券\n",
      "51 厦门金圆投资集团有限公司2025年面向专业投资者公开发行公司债券 福州市金融控股集团有限公司2025年面向专业投资者公开发行公司债券\n",
      "52 福州市金融控股集团有限公司2025年面向专业投资者公开发行公司债券 矿冶科技集团有限公司2024年面向专业投资者公开发行科技创新公司债券\n",
      "53 矿冶科技集团有限公司2024年面向专业投资者公开发行科技创新公司债券 南平武夷发展集团有限公司2025年面向专业投资者公开发行公司债券\n",
      "54 南平武夷发展集团有限公司2025年面向专业投资者公开发行公司债券 成都环境投资集团有限公司2025年面向专业投资者公开发行公司债券\n",
      "55 成都环境投资集团有限公司2025年面向专业投资者公开发行公司债券 江西赣能股份有限公司2024年面向专业投资者公开发行公司债券\n",
      "56 江西赣能股份有限公司2024年面向专业投资者公开发行公司债券 中国南方电网有限责任公司面向专业投资者公开发行2025年公司债券\n",
      "57 中国南方电网有限责任公司面向专业投资者公开发行2025年公司债券 成都环境投资集团有限公司2025年面向专业投资者公开发行可续期公司债券\n",
      "58 成都环境投资集团有限公司2025年面向专业投资者公开发行可续期公司债券 广州交通投资集团有限公司2025年面向专业投资者公开发行公司债券\n",
      "59 广州交通投资集团有限公司2025年面向专业投资者公开发行公司债券 陕西金融控股集团有限公司2024年面向专业投资者公开发行公司债券（第二期）\n",
      "60 陕西金融控股集团有限公司2024年面向专业投资者公开发行公司债券（第二期） 蜀道资本控股集团有限公司2024年面向专业投资者公开发行公司债券\n",
      "61 蜀道资本控股集团有限公司2024年面向专业投资者公开发行公司债券 华润金控投资有限公司2024年面向专业投资者公开发行公司债券\n",
      "62 华润金控投资有限公司2024年面向专业投资者公开发行公司债券 新疆立新能源股份有限公司2025年面向专业投资者公开发行公司债券\n",
      "63 新疆立新能源股份有限公司2025年面向专业投资者公开发行公司债券 新疆立新能源股份有限公司2025年面向专业投资者公开发行可续期公司债券\n",
      "64 新疆立新能源股份有限公司2025年面向专业投资者公开发行可续期公司债券 长城证券股份有限公司2024年面向专业投资者公开发行公司债券\n",
      "65 长城证券股份有限公司2024年面向专业投资者公开发行公司债券 华西证券股份有限公司2025年面向专业投资者公开发行公司债券\n",
      "66 华西证券股份有限公司2025年面向专业投资者公开发行公司债券 华西证券股份有限公司2025年面向专业投资者公开发行次级债券\n",
      "67 华西证券股份有限公司2025年面向专业投资者公开发行次级债券 成都交子金融控股集团有限公司2025年面向专业投资者公开发行公司债券\n",
      "68 成都交子金融控股集团有限公司2025年面向专业投资者公开发行公司债券 招商局港口集团股份有限公司2025年面向专业投资者公开发行公司债券\n",
      "69 招商局港口集团股份有限公司2025年面向专业投资者公开发行公司债券 国元证券股份有限公司2024年面向专业投资者公开发行公司债券\n",
      "70 国元证券股份有限公司2024年面向专业投资者公开发行公司债券 中建国际投资集团有限公司2024年面向专业投资者公开发行公司债券\n",
      "71 中建国际投资集团有限公司2024年面向专业投资者公开发行公司债券 丰城发展投资控股集团有限公司2024年面向专业投资者公开发行企业债券\n",
      "72 丰城发展投资控股集团有限公司2024年面向专业投资者公开发行企业债券 连云港市金融控股集团有限公司2024年面向专业投资者公开发行公司债券\n",
      "73 连云港市金融控股集团有限公司2024年面向专业投资者公开发行公司债券 广州资产管理有限公司2024年面向专业投资者公开发行公司债券\n",
      "74 广州资产管理有限公司2024年面向专业投资者公开发行公司债券 宜宾市科教产业投资集团有限公司2024年面向专业投资者公开发行企业债券\n",
      "76 宜宾市科教产业投资集团有限公司2024年面向专业投资者公开发行企业债券 中伟新材料股份有限公司2024年面向专业投资者公开发行可续期公司债券（一带一路）\n",
      "77 中伟新材料股份有限公司2024年面向专业投资者公开发行可续期公司债券（一带一路） 宜宾天原集团股份有限公司2024年面向专业投资者公开发行科技创新公司债券\n",
      "78 宜宾天原集团股份有限公司2024年面向专业投资者公开发行科技创新公司债券 中海企业发展集团有限公司2024年面向专业投资者公开发行公司债券\n",
      "79 中海企业发展集团有限公司2024年面向专业投资者公开发行公司债券 珠海华发集团有限公司2024年面向专业投资者公开发行公司债券\n",
      "80 珠海华发集团有限公司2024年面向专业投资者公开发行公司债券 成都天府新区投资集团有限公司2024年面向专业投资者公开发行可续期公司债券\n",
      "81 成都天府新区投资集团有限公司2024年面向专业投资者公开发行可续期公司债券 广州越秀融资租赁有限公司2024年面向专业投资者公开发行公司债券\n",
      "82 广州越秀融资租赁有限公司2024年面向专业投资者公开发行公司债券 珠海华发集团有限公司2024年面向专业投资者公开发行可续期公司债券\n",
      "83 珠海华发集团有限公司2024年面向专业投资者公开发行可续期公司债券 成都天府新区投资集团有限公司2024年面向专业投资者公开发行公司债券\n",
      "84 成都天府新区投资集团有限公司2024年面向专业投资者公开发行公司债券 广东省环保集团有限公司2024年面向专业投资者公开发行企业债券\n",
      "85 广东省环保集团有限公司2024年面向专业投资者公开发行企业债券 成都交子新兴金融投资集团股份有限公司2024年面向专业投资者公开发行公司债券\n",
      "86 成都交子新兴金融投资集团股份有限公司2024年面向专业投资者公开发行公司债券 蜀道投资集团有限责任公司2024年面向专业投资者公开发行可续期公司债券\n",
      "87 蜀道投资集团有限责任公司2024年面向专业投资者公开发行可续期公司债券 北京未来科学城发展集团有限公司2024年面向专业投资者公开发行公司债券\n",
      "88 北京未来科学城发展集团有限公司2024年面向专业投资者公开发行公司债券 现代投资股份有限公司2024年面向专业投资者公开发行公司债券\n",
      "89 现代投资股份有限公司2024年面向专业投资者公开发行公司债券 广州交通投资集团有限公司2024年面向专业投资者公开发行公司债券（第二次）\n",
      "90 广州交通投资集团有限公司2024年面向专业投资者公开发行公司债券（第二次） 无锡经开雪浪小镇未来园区有限公司2023年面向专业投资者公开发行企业债券\n",
      "91 无锡经开雪浪小镇未来园区有限公司2023年面向专业投资者公开发行企业债券 成都天府农博乡村发展集团有限公司2024年面向专业投资者公开发行企业债券\n",
      "92 成都天府农博乡村发展集团有限公司2024年面向专业投资者公开发行企业债券 东营市财金投资集团有限公司2024年面向专业投资者公开发行企业债券\n",
      "93 东营市财金投资集团有限公司2024年面向专业投资者公开发行企业债券 招商局公路网络科技控股股份有限公司2024年面向专业投资者公开发行公司债券\n",
      "94 招商局公路网络科技控股股份有限公司2024年面向专业投资者公开发行公司债券 中节能太阳能股份有限公司2024年面向专业投资者公开发行科技创新公司债券\n",
      "95 中节能太阳能股份有限公司2024年面向专业投资者公开发行科技创新公司债券 国海证券股份有限公司2024年面向专业投资者公开发行公司债券\n",
      "96 国海证券股份有限公司2024年面向专业投资者公开发行公司债券 中国石油集团资本有限责任公司2024年面向专业投资者公开发行公司债券\n",
      "97 中国石油集团资本有限责任公司2024年面向专业投资者公开发行公司债券 湖南钢铁集团有限公司2024年面向专业投资者公开发行公司债券\n",
      "98 湖南钢铁集团有限公司2024年面向专业投资者公开发行公司债券 城发环境股份有限公司2024年面向专业投资者公开发行公司债券\n",
      "99 城发环境股份有限公司2024年面向专业投资者公开发行公司债券 成都市兴蓉环境股份有限公司2024年面向专业投资者公开发行公司债券\n",
      "100 成都市兴蓉环境股份有限公司2024年面向专业投资者公开发行公司债券 粤开证券股份有限公司2024年面向专业投资者公开发行公司债券\n",
      "101 粤开证券股份有限公司2024年面向专业投资者公开发行公司债券 珠海华发科技产业集团有限公司2024年面向专业投资者公开发行科技创新公司债券\n",
      "[1, 2, 3, 4, 5, 6, 7, 8, 9, 10, 11, 12, 13, 14, 15, 16, 17, 18, 19, 20, 21, 22, 23, 24, 25, 26, 27, 28, 29, 30, 31, 32, 33, 34, 35, 36, 37, 38, 39, 40, 41, 42, 43, 44, 45, 46, 47, 48, 49, 50, 51, 52, 53, 54, 55, 56, 57, 58, 59, 60, 61, 62, 63, 64, 65, 66, 67, 68, 69, 70, 71, 72, 73, 74, 76, 77, 78, 79, 80, 81, 82, 83, 84, 85, 86, 87, 88, 89, 90, 91, 92, 93, 94, 95, 96, 97, 98, 99, 100, 101, 104]\n",
      "merge 1:1\n",
      "merge 2:2\n",
      "merge 3:3\n",
      "merge 4:4\n",
      "merge 5:5\n",
      "merge 6:6\n",
      "merge 7:7\n",
      "merge 8:8\n",
      "merge 9:9\n",
      "merge 10:10\n",
      "merge 11:11\n",
      "merge 12:12\n",
      "merge 13:13\n",
      "merge 14:14\n",
      "merge 15:15\n",
      "merge 16:16\n",
      "merge 17:17\n",
      "merge 18:18\n",
      "merge 19:19\n",
      "merge 20:20\n",
      "merge 21:21\n",
      "merge 22:22\n",
      "merge 23:23\n",
      "merge 24:24\n",
      "merge 25:25\n",
      "merge 26:26\n",
      "merge 27:27\n",
      "merge 28:28\n",
      "merge 29:29\n",
      "merge 30:30\n",
      "merge 31:31\n",
      "merge 32:32\n",
      "merge 33:33\n",
      "merge 34:34\n",
      "merge 35:35\n",
      "merge 36:36\n",
      "merge 37:37\n",
      "merge 38:38\n",
      "merge 39:39\n",
      "merge 40:40\n",
      "merge 41:41\n",
      "merge 42:42\n",
      "merge 43:43\n",
      "merge 44:44\n",
      "merge 45:45\n",
      "merge 46:46\n",
      "merge 47:47\n",
      "merge 48:48\n",
      "merge 49:49\n",
      "merge 50:50\n",
      "merge 51:51\n",
      "merge 52:52\n",
      "merge 53:53\n",
      "merge 54:54\n",
      "merge 55:55\n",
      "merge 56:56\n",
      "merge 57:57\n",
      "merge 58:58\n",
      "merge 59:59\n",
      "merge 60:60\n",
      "merge 61:61\n",
      "merge 62:62\n",
      "merge 63:63\n",
      "merge 64:64\n",
      "merge 65:65\n",
      "merge 66:66\n",
      "merge 67:67\n",
      "merge 68:68\n",
      "merge 69:69\n",
      "merge 70:70\n",
      "merge 71:71\n",
      "merge 72:72\n",
      "merge 73:73\n",
      "merge 74:75\n",
      "merge 76:76\n",
      "merge 77:77\n",
      "merge 78:78\n",
      "merge 79:79\n",
      "merge 80:80\n",
      "merge 81:81\n",
      "merge 82:82\n",
      "merge 83:83\n",
      "merge 84:84\n",
      "merge 85:85\n",
      "merge 86:86\n",
      "merge 87:87\n",
      "merge 88:88\n",
      "merge 89:89\n",
      "merge 90:90\n",
      "merge 91:91\n",
      "merge 92:92\n",
      "merge 93:93\n",
      "merge 94:94\n",
      "merge 95:95\n",
      "merge 96:96\n",
      "merge 97:97\n",
      "merge 98:98\n",
      "merge 99:99\n",
      "merge 100:100\n",
      "merge 101:103\n"
     ]
    },
    {
     "ename": "PermissionError",
     "evalue": "[Errno 13] Permission denied: './doc/result1.xlsx'",
     "output_type": "error",
     "traceback": [
      "\u001b[1;31m---------------------------------------------------------------------------\u001b[0m",
      "\u001b[1;31mPermissionError\u001b[0m                           Traceback (most recent call last)",
      "Cell \u001b[1;32mIn[82], line 1\u001b[0m\n\u001b[1;32m----> 1\u001b[0m \u001b[43mmerge_cell\u001b[49m\u001b[43m(\u001b[49m\u001b[43m)\u001b[49m\n",
      "Cell \u001b[1;32mIn[81], line 19\u001b[0m, in \u001b[0;36mmerge_cell\u001b[1;34m()\u001b[0m\n\u001b[0;32m     17\u001b[0m     \u001b[38;5;28;01mfor\u001b[39;00m col \u001b[38;5;129;01min\u001b[39;00m \u001b[38;5;124m'\u001b[39m\u001b[38;5;124mABEFGHIJKL\u001b[39m\u001b[38;5;124m'\u001b[39m:\n\u001b[0;32m     18\u001b[0m         ws\u001b[38;5;241m.\u001b[39mmerge_cells(\u001b[38;5;124mf\u001b[39m\u001b[38;5;124m'\u001b[39m\u001b[38;5;132;01m{\u001b[39;00mcol\u001b[38;5;132;01m}\u001b[39;00m\u001b[38;5;132;01m{\u001b[39;00munique[i]\u001b[38;5;132;01m}\u001b[39;00m\u001b[38;5;124m:\u001b[39m\u001b[38;5;132;01m{\u001b[39;00mcol\u001b[38;5;132;01m}\u001b[39;00m\u001b[38;5;132;01m{\u001b[39;00munique[i\u001b[38;5;241m+\u001b[39m\u001b[38;5;241m1\u001b[39m]\u001b[38;5;241m-\u001b[39m\u001b[38;5;241m1\u001b[39m\u001b[38;5;132;01m}\u001b[39;00m\u001b[38;5;124m'\u001b[39m)\n\u001b[1;32m---> 19\u001b[0m \u001b[43mwb\u001b[49m\u001b[38;5;241;43m.\u001b[39;49m\u001b[43msave\u001b[49m\u001b[43m(\u001b[49m\u001b[38;5;124;43m'\u001b[39;49m\u001b[38;5;124;43m./doc/result1.xlsx\u001b[39;49m\u001b[38;5;124;43m'\u001b[39;49m\u001b[43m)\u001b[49m\n\u001b[0;32m     20\u001b[0m wb\u001b[38;5;241m.\u001b[39mclose()\n",
      "File \u001b[1;32m~\\miniconda3\\envs\\test\\lib\\site-packages\\openpyxl\\workbook\\workbook.py:386\u001b[0m, in \u001b[0;36mWorkbook.save\u001b[1;34m(self, filename)\u001b[0m\n\u001b[0;32m    384\u001b[0m \u001b[38;5;28;01mif\u001b[39;00m \u001b[38;5;28mself\u001b[39m\u001b[38;5;241m.\u001b[39mwrite_only \u001b[38;5;129;01mand\u001b[39;00m \u001b[38;5;129;01mnot\u001b[39;00m \u001b[38;5;28mself\u001b[39m\u001b[38;5;241m.\u001b[39mworksheets:\n\u001b[0;32m    385\u001b[0m     \u001b[38;5;28mself\u001b[39m\u001b[38;5;241m.\u001b[39mcreate_sheet()\n\u001b[1;32m--> 386\u001b[0m \u001b[43msave_workbook\u001b[49m\u001b[43m(\u001b[49m\u001b[38;5;28;43mself\u001b[39;49m\u001b[43m,\u001b[49m\u001b[43m \u001b[49m\u001b[43mfilename\u001b[49m\u001b[43m)\u001b[49m\n",
      "File \u001b[1;32m~\\miniconda3\\envs\\test\\lib\\site-packages\\openpyxl\\writer\\excel.py:291\u001b[0m, in \u001b[0;36msave_workbook\u001b[1;34m(workbook, filename)\u001b[0m\n\u001b[0;32m    279\u001b[0m \u001b[38;5;28;01mdef\u001b[39;00m \u001b[38;5;21msave_workbook\u001b[39m(workbook, filename):\n\u001b[0;32m    280\u001b[0m \u001b[38;5;250m    \u001b[39m\u001b[38;5;124;03m\"\"\"Save the given workbook on the filesystem under the name filename.\u001b[39;00m\n\u001b[0;32m    281\u001b[0m \n\u001b[0;32m    282\u001b[0m \u001b[38;5;124;03m    :param workbook: the workbook to save\u001b[39;00m\n\u001b[1;32m   (...)\u001b[0m\n\u001b[0;32m    289\u001b[0m \n\u001b[0;32m    290\u001b[0m \u001b[38;5;124;03m    \"\"\"\u001b[39;00m\n\u001b[1;32m--> 291\u001b[0m     archive \u001b[38;5;241m=\u001b[39m \u001b[43mZipFile\u001b[49m\u001b[43m(\u001b[49m\u001b[43mfilename\u001b[49m\u001b[43m,\u001b[49m\u001b[43m \u001b[49m\u001b[38;5;124;43m'\u001b[39;49m\u001b[38;5;124;43mw\u001b[39;49m\u001b[38;5;124;43m'\u001b[39;49m\u001b[43m,\u001b[49m\u001b[43m \u001b[49m\u001b[43mZIP_DEFLATED\u001b[49m\u001b[43m,\u001b[49m\u001b[43m \u001b[49m\u001b[43mallowZip64\u001b[49m\u001b[38;5;241;43m=\u001b[39;49m\u001b[38;5;28;43;01mTrue\u001b[39;49;00m\u001b[43m)\u001b[49m\n\u001b[0;32m    292\u001b[0m     workbook\u001b[38;5;241m.\u001b[39mproperties\u001b[38;5;241m.\u001b[39mmodified \u001b[38;5;241m=\u001b[39m datetime\u001b[38;5;241m.\u001b[39mdatetime\u001b[38;5;241m.\u001b[39mnow(tz\u001b[38;5;241m=\u001b[39mdatetime\u001b[38;5;241m.\u001b[39mtimezone\u001b[38;5;241m.\u001b[39mutc)\u001b[38;5;241m.\u001b[39mreplace(tzinfo\u001b[38;5;241m=\u001b[39m\u001b[38;5;28;01mNone\u001b[39;00m)\n\u001b[0;32m    293\u001b[0m     writer \u001b[38;5;241m=\u001b[39m ExcelWriter(workbook, archive)\n",
      "File \u001b[1;32m~\\miniconda3\\envs\\test\\lib\\zipfile.py:1239\u001b[0m, in \u001b[0;36mZipFile.__init__\u001b[1;34m(self, file, mode, compression, allowZip64, compresslevel, strict_timestamps)\u001b[0m\n\u001b[0;32m   1237\u001b[0m \u001b[38;5;28;01mwhile\u001b[39;00m \u001b[38;5;28;01mTrue\u001b[39;00m:\n\u001b[0;32m   1238\u001b[0m     \u001b[38;5;28;01mtry\u001b[39;00m:\n\u001b[1;32m-> 1239\u001b[0m         \u001b[38;5;28mself\u001b[39m\u001b[38;5;241m.\u001b[39mfp \u001b[38;5;241m=\u001b[39m \u001b[43mio\u001b[49m\u001b[38;5;241;43m.\u001b[39;49m\u001b[43mopen\u001b[49m\u001b[43m(\u001b[49m\u001b[43mfile\u001b[49m\u001b[43m,\u001b[49m\u001b[43m \u001b[49m\u001b[43mfilemode\u001b[49m\u001b[43m)\u001b[49m\n\u001b[0;32m   1240\u001b[0m     \u001b[38;5;28;01mexcept\u001b[39;00m \u001b[38;5;167;01mOSError\u001b[39;00m:\n\u001b[0;32m   1241\u001b[0m         \u001b[38;5;28;01mif\u001b[39;00m filemode \u001b[38;5;129;01min\u001b[39;00m modeDict:\n",
      "\u001b[1;31mPermissionError\u001b[0m: [Errno 13] Permission denied: './doc/result1.xlsx'"
     ]
    }
   ],
   "source": [
    "merge_cell()"
   ]
  },
  {
   "cell_type": "code",
   "execution_count": 36,
   "id": "16b00b74-75be-4707-af49-bad0b7d71397",
   "metadata": {
    "execution": {
     "iopub.execute_input": "2025-07-04T09:54:13.351252Z",
     "iopub.status.busy": "2025-07-04T09:54:13.350213Z",
     "iopub.status.idle": "2025-07-04T09:54:13.360185Z",
     "shell.execute_reply": "2025-07-04T09:54:13.359187Z",
     "shell.execute_reply.started": "2025-07-04T09:54:13.351252Z"
    }
   },
   "outputs": [
    {
     "data": {
      "text/plain": [
       "'2025-02-14'"
      ]
     },
     "execution_count": 36,
     "metadata": {},
     "output_type": "execute_result"
    }
   ],
   "source": [
    "ws['L75'].value"
   ]
  },
  {
   "cell_type": "code",
   "execution_count": 37,
   "id": "84d7de53-79c0-4e0b-bbc5-2da7fff270e0",
   "metadata": {
    "execution": {
     "iopub.execute_input": "2025-07-04T09:54:19.955989Z",
     "iopub.status.busy": "2025-07-04T09:54:19.955989Z",
     "iopub.status.idle": "2025-07-04T09:54:19.972346Z",
     "shell.execute_reply": "2025-07-04T09:54:19.971369Z",
     "shell.execute_reply.started": "2025-07-04T09:54:19.955989Z"
    }
   },
   "outputs": [],
   "source": [
    "ws['L76'].value"
   ]
  },
  {
   "cell_type": "code",
   "execution_count": 25,
   "id": "040f90c2-ea31-41f7-a1d4-13ebe374ac5d",
   "metadata": {
    "execution": {
     "iopub.execute_input": "2025-07-04T09:49:41.820681Z",
     "iopub.status.busy": "2025-07-04T09:49:41.819684Z",
     "iopub.status.idle": "2025-07-04T09:49:41.830654Z",
     "shell.execute_reply": "2025-07-04T09:49:41.829680Z",
     "shell.execute_reply.started": "2025-07-04T09:49:41.820681Z"
    }
   },
   "outputs": [
    {
     "data": {
      "text/plain": [
       "'L75:L76'"
      ]
     },
     "execution_count": 25,
     "metadata": {},
     "output_type": "execute_result"
    }
   ],
   "source": [
    "f'{col}{prev}:{col}{cur}'"
   ]
  },
  {
   "cell_type": "code",
   "execution_count": 31,
   "id": "244ac888-6376-408a-82b7-16a5ad53dbfe",
   "metadata": {
    "execution": {
     "iopub.execute_input": "2025-07-04T09:50:54.387114Z",
     "iopub.status.busy": "2025-07-04T09:50:54.387114Z",
     "iopub.status.idle": "2025-07-04T09:50:54.407059Z",
     "shell.execute_reply": "2025-07-04T09:50:54.406089Z",
     "shell.execute_reply.started": "2025-07-04T09:50:54.387114Z"
    }
   },
   "outputs": [
    {
     "data": {
      "text/plain": [
       "<generator object Worksheet._cells_by_col at 0x000001335BFEA5F0>"
      ]
     },
     "execution_count": 31,
     "metadata": {},
     "output_type": "execute_result"
    }
   ],
   "source": []
  },
  {
   "cell_type": "code",
   "execution_count": null,
   "id": "d63dfafe-73e9-4298-a560-21b0c0891187",
   "metadata": {},
   "outputs": [],
   "source": []
  }
 ],
 "metadata": {
  "kernelspec": {
   "display_name": "Python [conda env:test]",
   "language": "python",
   "name": "conda-env-test-py"
  },
  "language_info": {
   "codemirror_mode": {
    "name": "ipython",
    "version": 3
   },
   "file_extension": ".py",
   "mimetype": "text/x-python",
   "name": "python",
   "nbconvert_exporter": "python",
   "pygments_lexer": "ipython3",
   "version": "3.9.7"
  }
 },
 "nbformat": 4,
 "nbformat_minor": 5
}
