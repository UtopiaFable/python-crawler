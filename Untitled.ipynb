{
 "cells": [
  {
   "cell_type": "code",
   "execution_count": 1,
   "id": "5c6777bf-77e0-41e3-a458-cd5d2b6b48ad",
   "metadata": {
    "tags": []
   },
   "outputs": [],
   "source": [
    "import re\n",
    "import time\n",
    "import requests as rq\n",
    "import random\n",
    "import json\n",
    "from urllib.parse import unquote,quote\n",
    "from openpyxl import load_workbook\n",
    "from bs4 import BeautifulSoup"
   ]
  },
  {
   "cell_type": "code",
   "execution_count": 5,
   "id": "29839a7b-5daa-4110-b8c7-079f50c28e26",
   "metadata": {
    "tags": []
   },
   "outputs": [],
   "source": [
    "index=\"https://query.sse.com.cn/commonSoaQuery.do\""
   ]
  },
  {
   "cell_type": "code",
   "execution_count": 3,
   "id": "4e3d105e-d789-4704-93f4-be7ee36db6b2",
   "metadata": {
    "tags": []
   },
   "outputs": [],
   "source": [
    "head={\"User-Agent\":\"Mozilla/5.0 (Windows NT 10.0; WOW64) AppleWebKit/537.36 (KHTML, like Gecko) Chrome/78.0.3904.108 Safari/537.36\",\n",
    "      \"Content-Type\":\"application/json\"}"
   ]
  },
  {
   "cell_type": "code",
   "execution_count": 13,
   "id": "ad5d8a43-71c9-4976-84e6-86370a65d363",
   "metadata": {
    "tags": []
   },
   "outputs": [],
   "source": [
    "data={\n",
    "    'jsonCallBack':f'jsonpCallback26563',\n",
    "    'isPagination':'true',\n",
    "    'sqlId':'ZQ_XMLB',\n",
    "    'pageHelp.pageSize':'20',\n",
    "    # 'area': '',\n",
    "    # 'trade': '',\n",
    "    'status':'2',\n",
    "    'bond_type':'0,5',\n",
    "    'pageHelp.pageNo': 1,\n",
    "    # 'begin': '',\n",
    "    # '_': int(time.time())\n",
    "}\n",
    "reports=rq.get(index,params=data, headers={'Referer': 'http://www.sse.com.cn/'})\n",
    "json_data = response.text.split('(')[-1].replace(')', '')"
   ]
  },
  {
   "cell_type": "code",
   "execution_count": 17,
   "id": "a5598741-587f-4c8c-aa5f-3bf7654ea71d",
   "metadata": {},
   "outputs": [],
   "source": [
    "result = json.loads(reports.content.decode().split('(')[-1][:-1])"
   ]
  },
  {
   "cell_type": "code",
   "execution_count": 18,
   "id": "c0205a1d-6f6d-483e-8269-f53b5e8b95ce",
   "metadata": {},
   "outputs": [
    {
     "data": {
      "text/plain": [
       "dict_keys(['actionErrors', 'actionMessages', 'fieldErrors', 'isPagination', 'jsonCallBack', 'locale', 'pageHelp', 'pageNo', 'pageSize', 'queryDate', 'result', 'securityCode', 'sqlId', 'texts', 'type', 'validateCode'])"
      ]
     },
     "execution_count": 18,
     "metadata": {},
     "output_type": "execute_result"
    }
   ],
   "source": [
    "result.keys()"
   ]
  },
  {
   "cell_type": "code",
   "execution_count": 22,
   "id": "aee88b07-0202-4054-9272-e09c69093904",
   "metadata": {
    "tags": []
   },
   "outputs": [
    {
     "data": {
      "text/plain": [
       "{'PRIORITY_MANAGER': '-',\n",
       " 'PRIORITY_NAME': '-',\n",
       " 'AUDIT_NAME': '安徽国元金融控股集团有限责任公司2025年面向专业投资者公开发行公司债券',\n",
       " 'WEN_HAO': '-',\n",
       " 'BOND_TYPE': '0',\n",
       " 'PLAN_ISSUE_AMOUNT': '55',\n",
       " 'NUM': '1',\n",
       " 'ISSUER_ID': '719961611',\n",
       " 'WRITER_NAME': '国元证券股份有限公司',\n",
       " 'AUDIT_SUB_STATUS': '-',\n",
       " 'ACCEPT_DATE': '2025-03-14',\n",
       " 'SHORT_NAME': '国元证券',\n",
       " 'REG_APRV_WEN_HAO': '-',\n",
       " 'UNDERWRITER_ID': '73168637-6',\n",
       " 'BOND_NUM': 'e227f988c3fe493a85c63d8040a616be',\n",
       " 'AUDIT_STATUS': '2',\n",
       " 'FULL_NAME': '安徽国元金融控股集团有限责任公司',\n",
       " 'REITS_TYPE': '-',\n",
       " 'SEC_NAME': ' ',\n",
       " 'PUBLISH_DATE': '2025-07-05',\n",
       " 'SEQ': '9000022058'}"
      ]
     },
     "execution_count": 22,
     "metadata": {},
     "output_type": "execute_result"
    }
   ],
   "source": [
    "result['pageHelp']['data'][0]"
   ]
  },
  {
   "cell_type": "code",
   "execution_count": 23,
   "id": "e14e90fa-2ed2-4607-9930-fab5e9385656",
   "metadata": {},
   "outputs": [],
   "source": [
    "bond_num = result['pageHelp']['data'][0]['BOND_NUM']"
   ]
  },
  {
   "cell_type": "code",
   "execution_count": 25,
   "id": "22a3fa48-bd11-455a-ae2c-fb84513252f7",
   "metadata": {},
   "outputs": [],
   "source": [
    "msg=rq.get(f'https://bond.sse.com.cn/bridge/information/index_detail.shtml?bound_id={bond_num}')"
   ]
  },
  {
   "cell_type": "code",
   "execution_count": 32,
   "id": "d63dfafe-73e9-4298-a560-21b0c0891187",
   "metadata": {},
   "outputs": [
    {
     "data": {
      "text/plain": [
       "'<!DOCTYPE html>\\r\\n<html>\\r\\n<head>\\r\\n    <!-- 站点属性 --><meta charset=\"utf-8\">\\r\\n<title>上海证券交易所|债券项目信息平台</title>\\r\\n<meta name=\"description\" content=\"\">\\r\\n<meta name=\"author\" content=\"上海证券交易所\">\\r\\n<meta name=\"renderer\" content=\"webkit\">\\r\\n<meta http-equiv=\"X-UA-Compatible\" content=\"IE=edge,chrome=1\">\\r\\n<meta name=\"apple-mobile-web-app-capable\" content=\"yes\">\\r\\n<meta name=\"mobile-web-app-capable\" content=\"yes\">\\r\\n<meta name=\"viewport\" content=\"width=device-width, initial-scale=1, maximum-scale=1, user-scalable=0\">\\r\\n<meta name=\"apple-mobile-web-app-title\" content=\"上海证券交易所\">\\r\\n<meta property=\"wb:webmaster\" content=\"6983a1253ca799d0\" />\\r\\n<link rel=\"shortcut icon\" href=\"/xhtml/images/favicon.ico\"><meta name=\"others\" content=\"页面生成时间 2024-11-20 16:15:53\">\\r\\n<title>项目信息</title>\\r\\n<script>\\r\\n    var channelId = \"12411\";\\r\\n    var channelCode = \"information\";\\r\\n    var displayName = \"Information\";\\r\\n    var channelName = \"项目信息\";\\r\\n    var shortPathName = \"\";\\r\\n    var extConfPath = \"\";\\r\\n    var extJsPath = \"\";\\r\\n    var extClassName = \"\";\\r\\n    var url = \"/bridge2/information/index.shtml\";\\r\\n\\r\\n    var pChannelId = \"12405\";\\r\\n    var pChannelCode = \"bridge2\";\\r\\n    var pDisplayName = \"公司债券项目信息平台2020\";\\r\\n    var pChannelName = \"公司债券项目信息平台2020\";\\r\\n    var pShortPathName = \"\";\\r\\n    var pExtConfPath = \"\";\\r\\n    var pExtJsPath = \"\";\\r\\n    var pExtClassName = \"\";\\r\\n    var pUrl = \"/bridge2/middle.shtml\";\\r\\n\\r\\n    var website = \"bond\";\\r\\n    var websiteId = \"26\";\\r\\n    var contentTitle = \\'\\'\\r\\n\\r\\n    var col_id = channelId;\\r\\n    var col_old_id = channelId;\\r\\n    var pageTitle = channelName;\\r\\n</script>\\r\\n\\r\\n<link rel=\"stylesheet\" href=\"/xhtml/bridge2/css/style.css\">\\r\\n<script type=\"text/javascript\">\\r\\n    var require = {\\r\\n        urlArgs: \"v=V3.1.0_0926\"\\r\\n    };\\r\\n    var webVersion = require.urlArgs;\\r\\n    var sseQueryURL =\"//query.sse.com.cn/\";\\r\\n\\r\\nvar filepath=\"//static.sse.com.cn/bond\";\\r\\n</script>\\r\\n\\r\\n<script src=\"//www.sse.com.cn/js/lib/gdp-full.js?v=3.1.1\"></script>\\r\\n<script type=\\'text/javascript\\'>\\r\\n  gdp(\\'init\\', \\'ba17301551dcbaf9\\', \\'ba571a8b8092eb55\\', {\\r\\n    host: \\'prod-ua.sseinfo.com\\',\\r\\n    version: \\'1.0.0\\',\\r\\n    scheme: \\'https\\',\\r\\n    debug: false\\r\\n  });\\r\\n  gdp(\\'send\\');\\r\\n</script>\\r\\n    \\r\\n<meta name=\"others\" content=\"页面生成时间 2024-11-20 16:16:23\" />\\r\\n<title>上海证券交易所|债券项目信息平台</title>\\r\\n</head>\\r\\n<body>\\r\\n<header class=\"fixed-top\">\\r\\n        <div class=\"topbar hidden-mobile\">\\r\\n           <div class=\"container\">\\r\\n                <a href=\"//www.sse.com.cn\" target=\"_blank\">上交所网站</a>\\r\\n                <a href=\"//bond.sse.com.cn\" target=\"_blank\">债券信息网</a>\\r\\n                 <a href=\"//www.sse.com.cn/services/greensecurities/home/\" target=\"_blank\">绿色证券</a>\\r\\n            </div>\\r\\n        </div>\\r\\n        <!-- pc-->\\r\\n        <div class=\"navbar pc-nav hidden-mobile\">\\r\\n            <div class=\"box-shadow pc-nav-area\">\\r\\n                <div class=\"container\">\\r\\n                    <div class=\"logo-area\">\\r\\n                        <a href=\"//www.sse.com.cn\" class=\"sse\"></a>\\r\\n                        <a href=\"/bridge2/home/\" class=\"bridge\"></a>\\r\\n                    </div>\\r\\n                    <ul class=\"menu\">\\r\\n                    </ul>\\r\\n                </div>\\r\\n            </div>\\r\\n            <div class=\"search-area\">\\r\\n                <div class=\"container\">\\r\\n                    <div class=\"search-block\">\\r\\n                        <input type=\"text\" class=\"\" maxlength=\"50\" placeholder=\"请输入项目名、发行人或承销商\">\\r\\n                        <a href=\"javascript:void(0)\" class=\"search\"><i class=\"fe fe-search\"></i></a>\\r\\n                    </div>\\r\\n                </div>\\r\\n            </div>\\r\\n        </div>\\r\\n        <!--mobile-->\\r\\n        <div class=\"navbar mobile-nav box-shadow hidden-pc\">            \\r\\n            <div class=\"container\" style=\"position: relative;\">\\r\\n                <button class=\"navbar-toggler navbar-icon collapsed\" type=\"button\" data-toggle=\"collapse\" data-target=\"#collapsibleNavbar\" aria-expanded=\"false\">\\r\\n                    <span class=\"\"></span>\\r\\n                </button>\\r\\n                <div class=\"logo-area\">\\r\\n                    <a href=\"//www.sse.com.cn\" class=\"sse\"></a>\\r\\n                    <a href=\"/bridge2/home/\" class=\"bridge\"></a>\\r\\n                </div>\\r\\n            </div>             \\r\\n            <div class=\"navbar-collapse collapse\" id=\"collapsibleNavbar\">\\r\\n                 <ul class=\"menu\">\\r\\n                </ul> \\r\\n            </div>\\r\\n            <div class=\"search-block\">\\r\\n                <input type=\"text\" class=\"\" placeholder=\"请输入项目名、发行人或承销商\"/>\\r\\n                <a href=\"javascript:void(0);\" class=\"search\" ><i class=\"fe fe-search\"></i></a>\\r\\n            </div>  \\r\\n        </div>\\r\\n    </header>\\r\\n<main class=\"page page_content\">\\r\\n    <div class=\"banner js_banner\">\\r\\n        <div class=\"container\">\\r\\n            <div class=\"text\">\\r\\n                <h1>项目信息<em>Information</em></h1>\\r\\n            </div>\\r\\n        </div>\\r\\n    </div>\\r\\n    <div class=\"container content\">\\r\\n        <div class=\"row \">\\r\\n    <div class=\"col-sm-12 \">\\r\\n        <div class=\"lev1_marginblock js_pjinfodatadetail_title\">\\r\\n            <div class=\"content-title\">\\r\\n                <h1>这里显示项目名称(<span id=\"\"></span>)</h1>\\r\\n                <div class=\"page_xmxq_1\">\\r\\n\\t<div class=\"select-top lev1_paddingblock\">\\r\\n\\t\\t<div class=\"table-title\">\\r\\n\\t\\t\\t<h2>项目基本信息\\r\\n\\t\\t\\t</h2>\\r\\n\\t\\t</div>\\r\\n\\t\\t<div class=\"table-responsive table_normal js_pjinfos\">\\r\\n\\t\\t\\t<table class=\"table\">\\r\\n\\t\\t\\t\\t<tbody>\\r\\n\\t\\t\\t\\t\\t<tr>\\r\\n\\t\\t\\t\\t\\t\\t<th class=\"align_left\">债券名称</th>\\r\\n\\t\\t\\t\\t\\t\\t<td class=\"align_left\" id=\"AUDIT_NAME\">-</td>\\r\\n\\t\\t\\t\\t\\t</tr>\\r\\n\\t\\t\\t\\t\\t<tr>\\r\\n\\t\\t\\t\\t\\t\\t<th class=\"align_left\">品种</th>\\r\\n\\t\\t\\t\\t\\t\\t<td class=\"align_left\" id=\"BOND_TYPE\">-</td>\\r\\n\\t\\t\\t\\t\\t</tr>\\r\\n\\t\\t\\t\\t\\t<tr>\\r\\n\\t\\t\\t\\t\\t\\t<th class=\"align_left\">拟发行金额<br class=\"hidden-pc\">（单位：亿元）</th>\\r\\n\\t\\t\\t\\t\\t\\t<td class=\"align_left\" id=\"PLAN_ISSUE_AMOUNT\">-</td>\\r\\n\\t\\t\\t\\t\\t</tr>\\r\\n\\t\\t\\t\\t\\t<tr>\\r\\n\\t\\t\\t\\t\\t\\t<th class=\"align_left\">发行人</th>\\r\\n\\t\\t\\t\\t\\t\\t<td class=\"align_left\" id=\"LIST1\">-</td>\\r\\n\\t\\t\\t\\t\\t</tr>\\r\\n\\t\\t\\t\\t\\t<tr>\\r\\n\\t\\t\\t\\t\\t\\t<th class=\"align_left\">承销商/管理人</th>\\r\\n\\t\\t\\t\\t\\t\\t<td class=\"align_left\" id=\"LIST2\">-</td>\\r\\n\\t\\t\\t\\t\\t</tr>\\r\\n\\t\\t\\t\\t\\t<tr>\\r\\n\\t\\t\\t\\t\\t\\t<th class=\"align_left\">交易所确认文件文号</th>\\r\\n\\t\\t\\t\\t\\t\\t<td class=\"align_left\" id=\"WEN_HAO\">-</td>\\r\\n\\t\\t\\t\\t\\t</tr>\\r\\n\\t\\t\\t\\t\\t<tr style=\"display: none;\">\\r\\n\\t\\t\\t\\t\\t\\t<th class=\"align_left\">注册批复文号</th>\\r\\n\\t\\t\\t\\t\\t\\t<td class=\"align_left\" id=\"REG_APRV_WEN_HAO\">-</td>\\r\\n\\t\\t\\t\\t\\t</tr>\\r\\n\\t\\t\\t\\t\\t<tr>\\r\\n\\t\\t\\t\\t\\t\\t<th class=\"align_left\">项目状态</th>\\r\\n\\t\\t\\t\\t\\t\\t<td class=\"align_left\" id=\"AUDIT_STATUS\">-</td>\\r\\n\\t\\t\\t\\t\\t</tr>\\r\\n\\t\\t\\t\\t\\t<tr>\\r\\n\\t\\t\\t\\t\\t\\t<th class=\"align_left\">更新日期</th>\\r\\n\\t\\t\\t\\t\\t\\t<td class=\"align_left\" id=\"PUBLISH_DATE\">-</td>\\r\\n\\t\\t\\t\\t\\t</tr>\\r\\n\\t\\t\\t\\t\\t<tr>\\r\\n\\t\\t\\t\\t\\t\\t<th class=\"align_left\">受理日期</th>\\r\\n\\t\\t\\t\\t\\t\\t<td class=\"align_left\" id=\"ACCEPT_DATE\">-</td>\\r\\n\\t\\t\\t\\t\\t</tr>\\r\\n\\t\\t\\t\\t</tbody>\\r\\n\\t\\t\\t</table>\\r\\n\\t\\t</div>\\r\\n\\t</div>\\r\\n</div>\\r\\n<div class=\"clearfix\"></div>\\r\\n<div class=\"page_xmxq_2\">\\r\\n\\t<div class=\"select-top lev1_paddingblock\">\\r\\n\\t\\t<div class=\"table-title\">\\r\\n\\t\\t\\t<h2>信息披露文件及备查文件\\r\\n\\t\\t\\t</h2>\\r\\n\\t\\t</div>\\r\\n\\t\\t<div class=\"table-responsive table_normal  js_pjinfodatadetail\">\\r\\n\\t\\t\\t<table class=\"table\">\\r\\n\\t\\t\\t\\t<tbody>\\r\\n\\t\\t\\t\\t\\t<tr class=\"bg_gray\">\\r\\n\\t\\t\\t\\t\\t\\t<th width=\"400\">披露文件</th>\\r\\n\\t\\t\\t\\t\\t\\t<th>申报稿</th>\\r\\n\\t\\t\\t\\t\\t\\t<th>反馈回复稿</th>\\r\\n\\t\\t\\t\\t\\t\\t<!-- <th>封卷稿</th> -->\\r\\n\\t\\t\\t\\t\\t\\t<th>注册稿</th>\\r\\n\\t\\t\\t\\t\\t</tr>\\r\\n\\t\\t\\t\\t\\t<tr class=\"bg_gray2\" id=\"M1\" style=\"display:none;\">\\r\\n\\t\\t\\t\\t\\t\\t<th colspan=\"4\" style=\"text-align:left;\">本次公司债券发行的募集文件</th>\\r\\n\\t\\t\\t\\t\\t</tr>\\r\\n\\t\\t\\t\\t\\t<tr id=\"11\" style=\"display:none;\">\\r\\n\\t\\t\\t\\t\\t\\t<td class=\"table_left fontbold w-240\">募集说明书</td>\\r\\n\\t\\t\\t\\t\\t\\t<td class=\"first nowrap\">-</td>\\r\\n\\t\\t\\t\\t\\t\\t<td class=\"modified nowrap\">-</td>\\r\\n\\t\\t\\t\\t\\t\\t<td class=\"third nowrap\">-</td>\\r\\n\\t\\t\\t\\t\\t</tr>\\r\\n\\t\\t\\t\\t\\t<tr id=\"12\" style=\"display:none;\">\\r\\n\\t\\t\\t\\t\\t\\t<td class=\"table_left fontbold w-240\">募集说明书摘要</td>\\r\\n\\t\\t\\t\\t\\t\\t<td class=\"first nowrap\">-</td>\\r\\n\\t\\t\\t\\t\\t\\t<td class=\"modified nowrap\">-</td>\\r\\n\\t\\t\\t\\t\\t\\t<td class=\"third nowrap\">-</td>\\r\\n\\t\\t\\t\\t\\t</tr>\\r\\n\\r\\n\\t\\t\\t\\t\\t<tr class=\"bg_gray2\" id=\"M2\" style=\"display:none;\">\\r\\n\\t\\t\\t\\t\\t\\t<th colspan=\"4\" style=\"text-align:left;\">发行人关于本次公司债券发行的申请和授权文件</th>\\r\\n\\t\\t\\t\\t\\t</tr>\\r\\n\\t\\t\\t\\t\\t<tr id=\"21\" style=\"display:none;\">\\r\\n\\t\\t\\t\\t\\t\\t<td class=\"table_left fontbold w-240\">发行人有权机构关于本期公开发行公司债券发行事项的股东会决议</td>\\r\\n\\t\\t\\t\\t\\t\\t<td class=\"first nowrap\">-</td>\\r\\n\\t\\t\\t\\t\\t\\t<td class=\"modified nowrap\">-</td>\\r\\n\\t\\t\\t\\t\\t\\t<td class=\"third nowrap\">-</td>\\r\\n\\t\\t\\t\\t\\t</tr>\\r\\n\\t\\t\\t\\t\\t<tr id=\"22\" style=\"display:none;\">\\r\\n\\t\\t\\t\\t\\t\\t<td class=\"table_left fontbold w-240\">发行人有权机构关于本期公开发行公司债券发行事项的董事会决议</td>\\r\\n\\t\\t\\t\\t\\t\\t<td class=\"first nowrap\">-</td>\\r\\n\\t\\t\\t\\t\\t\\t<td class=\"modified nowrap\">-</td>\\r\\n\\t\\t\\t\\t\\t\\t<td class=\"third nowrap\">-</td>\\r\\n\\t\\t\\t\\t\\t</tr>\\r\\n\\r\\n\\t\\t\\t\\t\\t<tr class=\"bg_gray2\" id=\"M3\" style=\"display:none;\">\\r\\n\\t\\t\\t\\t\\t\\t<th colspan=\"4\" style=\"text-align:left;\">中介机构关于本次公司债券发行的文件</th>\\r\\n\\t\\t\\t\\t\\t</tr>\\r\\n\\t\\t\\t\\t\\t<tr id=\"31\" style=\"display:none;\">\\r\\n\\t\\t\\t\\t\\t\\t<td class=\"table_left fontbold w-240\">主承销商核查意见</td>\\r\\n\\t\\t\\t\\t\\t\\t<td class=\"first nowrap\">-</td>\\r\\n\\t\\t\\t\\t\\t\\t<td class=\"modified nowrap\">-</td>\\r\\n\\t\\t\\t\\t\\t\\t<td class=\"third nowrap\">-</td>\\r\\n\\t\\t\\t\\t\\t</tr>\\r\\n\\t\\t\\t\\t\\t<tr id=\"32\" style=\"display:none;\">\\r\\n\\t\\t\\t\\t\\t\\t<td class=\"table_left fontbold w-240\">发行人律师出具的法律意见书</td>\\r\\n\\t\\t\\t\\t\\t\\t<td class=\"first nowrap\">-</td>\\r\\n\\t\\t\\t\\t\\t\\t<td class=\"modified nowrap\">-</td>\\r\\n\\t\\t\\t\\t\\t\\t<td class=\"third nowrap\">-</td>\\r\\n\\t\\t\\t\\t\\t</tr>\\r\\n\\t\\t\\t\\t\\t<tr id=\"33\" style=\"display:none;\">\\r\\n\\t\\t\\t\\t\\t\\t<td class=\"table_left fontbold w-240\">资信评级机构为本次发行公司债券出具的资信评级报告</td>\\r\\n\\t\\t\\t\\t\\t\\t<td class=\"first nowrap\">-</td>\\r\\n\\t\\t\\t\\t\\t\\t<td class=\"modified nowrap\">-</td>\\r\\n\\t\\t\\t\\t\\t\\t<td class=\"third nowrap\">-</td>\\r\\n\\t\\t\\t\\t\\t</tr>\\r\\n\\t\\t\\t\\t\\t<tr id=\"34\" style=\"display:none;\">\\r\\n\\t\\t\\t\\t\\t\\t<td class=\"table_left fontbold w-240\">第三方评估意见/认证报告</td>\\r\\n\\t\\t\\t\\t\\t\\t<td class=\"first nowrap\">-</td>\\r\\n\\t\\t\\t\\t\\t\\t<td class=\"modified nowrap\">-</td>\\r\\n\\t\\t\\t\\t\\t\\t<td class=\"third nowrap\">-</td>\\r\\n\\t\\t\\t\\t\\t</tr>\\r\\n\\r\\n\\t\\t\\t\\t\\t<tr class=\"bg_gray2\" id=\"M4\" style=\"display:none;\">\\r\\n\\t\\t\\t\\t\\t\\t<th colspan=\"4\" style=\"text-align:left;\">财务报告和审计报告</th>\\r\\n\\t\\t\\t\\t\\t</tr>\\r\\n\\t\\t\\t\\t\\t<tr id=\"41\" style=\"display:none;\">\\r\\n\\t\\t\\t\\t\\t\\t<td class=\"table_left fontbold w-240\">发行人最近三年的财务报告和审计报告</td>\\r\\n\\t\\t\\t\\t\\t\\t<td class=\"first nowrap\">-</td>\\r\\n\\t\\t\\t\\t\\t\\t<td class=\"modified nowrap\">-</td>\\r\\n\\t\\t\\t\\t\\t\\t<td class=\"third nowrap\">-</td>\\r\\n\\t\\t\\t\\t\\t</tr>\\r\\n\\t\\t\\t\\t\\t<tr id=\"42\" style=\"display:none;\">\\r\\n\\t\\t\\t\\t\\t\\t<td class=\"table_left fontbold w-240\">最近一期的财务报告或会计报表</td>\\r\\n\\t\\t\\t\\t\\t\\t<td class=\"first nowrap\">-</td>\\r\\n\\t\\t\\t\\t\\t\\t<td class=\"modified nowrap\">-</td>\\r\\n\\t\\t\\t\\t\\t\\t<td class=\"third nowrap\">-</td>\\r\\n\\t\\t\\t\\t\\t</tr>\\r\\n\\t\\t\\t\\t\\t<tr id=\"43\" style=\"display:none;\">\\r\\n\\t\\t\\t\\t\\t\\t<td class=\"table_left fontbold w-240\">非标准无保留意见审计报告的补充意见、会计师事务所及注册会计师关于非标准无保留意见审计报告的补充意见</td>\\r\\n\\t\\t\\t\\t\\t\\t<td class=\"first nowrap\">-</td>\\r\\n\\t\\t\\t\\t\\t\\t<td class=\"modified nowrap\">-</td>\\r\\n\\t\\t\\t\\t\\t\\t<td class=\"third nowrap\">-</td>\\r\\n\\t\\t\\t\\t\\t</tr>\\r\\n\\r\\n\\t\\t\\t\\t\\t<tr class=\"bg_gray2\" id=\"M5\" style=\"display:none;\">\\r\\n\\t\\t\\t\\t\\t\\t<th colspan=\"4\" style=\"text-align:left;\">担保文件</th>\\r\\n\\t\\t\\t\\t\\t</tr>\\r\\n\\t\\t\\t\\t\\t<tr id=\"51\" style=\"display:none;\">\\r\\n\\t\\t\\t\\t\\t\\t<td class=\"table_left fontbold w-240\">本次发行公司债券的担保合同、担保函</td>\\r\\n\\t\\t\\t\\t\\t\\t<td class=\"first nowrap\">-</td>\\r\\n\\t\\t\\t\\t\\t\\t<td class=\"modified nowrap\">-</td>\\r\\n\\t\\t\\t\\t\\t\\t<td class=\"third nowrap\">-</td>\\r\\n\\t\\t\\t\\t\\t</tr>\\r\\n\\t\\t\\t\\t\\t<tr id=\"52\" style=\"display:none;\">\\r\\n\\t\\t\\t\\t\\t\\t<td class=\"table_left fontbold w-240\">本次发行公司债券的担保人就提供担保获得的授权文件</td>\\r\\n\\t\\t\\t\\t\\t\\t<td class=\"first nowrap\">-</td>\\r\\n\\t\\t\\t\\t\\t\\t<td class=\"modified nowrap\">-</td>\\r\\n\\t\\t\\t\\t\\t\\t<td class=\"third nowrap\">-</td>\\r\\n\\t\\t\\t\\t\\t</tr>\\r\\n\\t\\t\\t\\t\\t<tr id=\"53\" style=\"display:none;\">\\r\\n\\t\\t\\t\\t\\t\\t<td class=\"table_left fontbold w-240\">担保财产的资产评估文件(如为抵押或质押担保)</td>\\r\\n\\t\\t\\t\\t\\t\\t<td class=\"first nowrap\">-</td>\\r\\n\\t\\t\\t\\t\\t\\t<td class=\"modified nowrap\">-</td>\\r\\n\\t\\t\\t\\t\\t\\t<td class=\"third nowrap\">-</td>\\r\\n\\t\\t\\t\\t\\t</tr>\\r\\n\\t\\t\\t\\t\\t<tr id=\"54\" style=\"display:none;\">\\r\\n\\t\\t\\t\\t\\t\\t<td class=\"table_left fontbold w-240\">担保人最近一年的财务报告及最近一期的财务报告或会计报表</td>\\r\\n\\t\\t\\t\\t\\t\\t<td class=\"first nowrap\">-</td>\\r\\n\\t\\t\\t\\t\\t\\t<td class=\"modified nowrap\">-</td>\\r\\n\\t\\t\\t\\t\\t\\t<td class=\"third nowrap\">-</td>\\r\\n\\t\\t\\t\\t\\t</tr>\\r\\n\\r\\n\\t\\t\\t\\t\\t<tr class=\"bg_gray2\" id=\"M6\" style=\"display:none;\">\\r\\n\\t\\t\\t\\t\\t\\t<th colspan=\"4\" style=\"text-align:left;\">其他文件</th>\\r\\n\\t\\t\\t\\t\\t</tr>\\r\\n\\t\\t\\t\\t\\t<tr id=\"61\" style=\"display:none;\">\\r\\n\\t\\t\\t\\t\\t\\t<td class=\"table_left fontbold w-240\">债券受托管理协议</td>\\r\\n\\t\\t\\t\\t\\t\\t<td class=\"first nowrap\">-</td>\\r\\n\\t\\t\\t\\t\\t\\t<td class=\"modified nowrap\">-</td>\\r\\n\\t\\t\\t\\t\\t\\t<td class=\"third nowrap\">-</td>\\r\\n\\t\\t\\t\\t\\t</tr>\\r\\n\\t\\t\\t\\t\\t<tr id=\"62\" style=\"display:none;\">\\r\\n\\t\\t\\t\\t\\t\\t<td class=\"table_left fontbold w-240\">债券持有人会议规则</td>\\r\\n\\t\\t\\t\\t\\t\\t<td class=\"first nowrap\">-</td>\\r\\n\\t\\t\\t\\t\\t\\t<td class=\"modified nowrap\">-</td>\\r\\n\\t\\t\\t\\t\\t\\t<td class=\"third nowrap\">-</td>\\r\\n\\t\\t\\t\\t\\t</tr>\\r\\n\\t\\t\\t\\t\\t<tr class=\"bg_gray2 reits_detail\" id=\"M9\" style=\"display:none;\">\\r\\n\\t\\t\\t\\t\\t\\t<th colspan=\"4\" style=\"text-align:left;\">基础设施基金相关文件</th>\\r\\n\\t\\t\\t\\t\\t</tr>\\r\\n\\t\\t\\t\\t\\t<tr id=\"91\" class=\"reits_detail\" style=\"display:none;\">\\r\\n\\t\\t\\t\\t\\t\\t<td class=\"table_left fontbold w-240\">基金合同</td>\\r\\n\\t\\t\\t\\t\\t\\t<td class=\"first nowrap\">-</td>\\r\\n\\t\\t\\t\\t\\t\\t<td class=\"modified nowrap\">-</td>\\r\\n\\t\\t\\t\\t\\t\\t<td class=\"third nowrap\">-</td>\\r\\n\\t\\t\\t\\t\\t</tr>\\r\\n\\t\\t\\t\\t\\t<tr id=\"92\" class=\"reits_detail\" style=\"display:none;\">\\r\\n\\t\\t\\t\\t\\t\\t<td class=\"table_left fontbold w-240\">基金托管协议</td>\\r\\n\\t\\t\\t\\t\\t\\t<td class=\"first nowrap\">-</td>\\r\\n\\t\\t\\t\\t\\t\\t<td class=\"modified nowrap\">-</td>\\r\\n\\t\\t\\t\\t\\t\\t<td class=\"third nowrap\">-</td>\\r\\n\\t\\t\\t\\t\\t</tr>\\r\\n\\t\\t\\t\\t\\t<tr id=\"93\" class=\"reits_detail\" style=\"display:none;\">\\r\\n\\t\\t\\t\\t\\t\\t<td class=\"table_left fontbold w-240\">招募说明书</td>\\r\\n\\t\\t\\t\\t\\t\\t<td class=\"first nowrap\">-</td>\\r\\n\\t\\t\\t\\t\\t\\t<td class=\"modified nowrap\">-</td>\\r\\n\\t\\t\\t\\t\\t\\t<td class=\"third nowrap\">-</td>\\r\\n\\t\\t\\t\\t\\t</tr>\\r\\n\\t\\t\\t\\t\\t<tr id=\"94\" class=\"reits_detail\" style=\"display:none;\">\\r\\n\\t\\t\\t\\t\\t\\t<td class=\"table_left fontbold w-240\">基金法律意见书</td>\\r\\n\\t\\t\\t\\t\\t\\t<td class=\"first nowrap\">-</td>\\r\\n\\t\\t\\t\\t\\t\\t<td class=\"modified nowrap\">-</td>\\r\\n\\t\\t\\t\\t\\t\\t<td class=\"third nowrap\">-</td>\\r\\n\\t\\t\\t\\t\\t</tr>\\r\\n\\t\\t\\t</table>\\r\\n\\t\\t</div>\\r\\n\\t</div>\\r\\n</div>\\r\\n<div class=\"clearfix\"></div>\\r\\n<div class=\"page_xmxq_2\">\\r\\n\\t<div class=\"select-top lev1_paddingblock\">\\r\\n\\r\\n\\t\\t<div class=\"table-title\">\\r\\n\\t\\t\\t<h2>反馈意见及回复\\r\\n\\t\\t\\t</h2>\\r\\n\\t\\t</div>\\r\\n\\t\\t<div id=\"advice_list\" class=\"table-responsive table_normal\">\\r\\n\\t\\t</div>\\r\\n\\t</div>\\r\\n</div>\\r\\n            </div>\\r\\n        </div>\\r\\n    </div>\\r\\n</div>\\r\\n    </div>\\r\\n</main>\\r\\n<!-- 页脚 -->\\r\\n&#xfeff;\\r\\n<footer>\\r\\n    <div class=\"container\">\\r\\n        <a href=\"#\" class=\"gotop\">回到顶部</a>\\r\\n        <p>本网站现已支持 <img src=\"/xhtml/images/IPV6.png\" style=\"margin-bottom: 2px;\"> ©上海证券交易所版权所有 2020 <a target=\"_blank\" href=\"https://beian.miit.gov.cn/\">沪ICP备05004045号-2</a>\\xa0<a target=\"_blank\" href=\"http://www.beian.gov.cn/portal/registerSystemInfo?recordcode=31011502016333\"><img src=\"/xhtml/images/beian.png\"> 沪公网安备 31011502016333号</a>\\r\\n </p>\\r\\n        <p>上海证券交易所服务热线：400-8888-400 </p>\\r\\n    </div>\\r\\n</footer>\\r\\n<!-- 引入jQuery -->\\r\\n<script type=\"text/javascript\" src=\"/xhtml/bridge2/js/lib/jquery.min.js\"></script>\\r\\n<!-- 引入官网的跑批文件 -->\\r\\n<script type=\"text/javascript\" src=\"//www.sse.com.cn/js/common/ssesuggestdata.js\"></script>\\r\\n<script type=\"text/javascript\" src=\"//www.sse.com.cn/js/common/systemDate_global.js\"></script>\\r\\n<!-- 引入 js 库 -->\\r\\n<script type=\"text/javascript\" src=\"/xhtml/bridge2/js/lib/bootstrap.min.js\"></script>\\r\\n<!-- 引入 js 文件 -->\\r\\n<script type=\"text/javascript\" src=\"/xhtml/bridge2/js/bond_bridge2_menu.js?v=20230331\"></script>\\r\\n<script type=\"text/javascript\" src=\"/xhtml/bridge2/js/bond_bridge2_left.js\"></script>\\r\\n<script type=\"text/javascript\" src=\"/xhtml/bridge2/js/main-menu.js\"></script>\\r\\n\\r\\n<!-- 引入require js 文件 -->\\r\\n<script data-main=\"/xhtml/bridge2/js/main\" src=\"/xhtml/bridge2/js/lib/require.js\"></script>\\r\\n</body>\\r\\n</html>'"
      ]
     },
     "execution_count": 32,
     "metadata": {},
     "output_type": "execute_result"
    }
   ],
   "source": [
    "msg.content.decode()"
   ]
  },
  {
   "cell_type": "code",
   "execution_count": null,
   "id": "62648fbe-943a-42af-8ecd-a4c3c6bfa0d1",
   "metadata": {},
   "outputs": [],
   "source": []
  }
 ],
 "metadata": {
  "kernelspec": {
   "display_name": "Python [conda env:root] *",
   "language": "python",
   "name": "conda-root-py"
  },
  "language_info": {
   "codemirror_mode": {
    "name": "ipython",
    "version": 3
   },
   "file_extension": ".py",
   "mimetype": "text/x-python",
   "name": "python",
   "nbconvert_exporter": "python",
   "pygments_lexer": "ipython3",
   "version": "3.11.4"
  }
 },
 "nbformat": 4,
 "nbformat_minor": 5
}
