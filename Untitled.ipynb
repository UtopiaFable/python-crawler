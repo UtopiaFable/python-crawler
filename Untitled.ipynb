{
 "cells": [
  {
   "cell_type": "code",
   "execution_count": 37,
   "id": "5c6777bf-77e0-41e3-a458-cd5d2b6b48ad",
   "metadata": {
    "execution": {
     "iopub.execute_input": "2025-07-07T08:53:52.916245Z",
     "iopub.status.busy": "2025-07-07T08:53:52.915248Z",
     "iopub.status.idle": "2025-07-07T08:53:52.919237Z",
     "shell.execute_reply": "2025-07-07T08:53:52.919237Z",
     "shell.execute_reply.started": "2025-07-07T08:53:52.916245Z"
    },
    "tags": []
   },
   "outputs": [],
   "source": [
    "import os\n",
    "import re\n",
    "import time\n",
    "import requests as rq\n",
    "import random\n",
    "import json\n",
    "from urllib.parse import unquote,quote\n",
    "from openpyxl import load_workbook\n",
    "from bs4 import BeautifulSoup\n",
    "from io import StringIO, BytesIO"
   ]
  },
  {
   "cell_type": "code",
   "execution_count": 27,
   "id": "d4c877d3-79d3-410b-9a79-25a85b3c9088",
   "metadata": {
    "execution": {
     "iopub.execute_input": "2025-07-07T08:44:47.619469Z",
     "iopub.status.busy": "2025-07-07T08:44:47.619469Z",
     "iopub.status.idle": "2025-07-07T08:44:47.699640Z",
     "shell.execute_reply": "2025-07-07T08:44:47.698631Z",
     "shell.execute_reply.started": "2025-07-07T08:44:47.619469Z"
    },
    "scrolled": true
   },
   "outputs": [],
   "source": [
    "import pdfplumber"
   ]
  },
  {
   "cell_type": "code",
   "execution_count": 35,
   "id": "4697801c-e99c-48a9-a599-0a9f35cdefbc",
   "metadata": {
    "execution": {
     "iopub.execute_input": "2025-07-07T08:53:41.402587Z",
     "iopub.status.busy": "2025-07-07T08:53:41.402587Z",
     "iopub.status.idle": "2025-07-07T08:53:41.558292Z",
     "shell.execute_reply": "2025-07-07T08:53:41.558292Z",
     "shell.execute_reply.started": "2025-07-07T08:53:41.402587Z"
    }
   },
   "outputs": [],
   "source": [
    "from win32com import client"
   ]
  },
  {
   "cell_type": "code",
   "execution_count": 100,
   "id": "29839a7b-5daa-4110-b8c7-079f50c28e26",
   "metadata": {
    "execution": {
     "iopub.execute_input": "2025-07-07T12:55:05.475572Z",
     "iopub.status.busy": "2025-07-07T12:55:05.475572Z",
     "iopub.status.idle": "2025-07-07T12:55:05.479210Z",
     "shell.execute_reply": "2025-07-07T12:55:05.478911Z",
     "shell.execute_reply.started": "2025-07-07T12:55:05.475572Z"
    },
    "tags": []
   },
   "outputs": [],
   "source": [
    "index=\"https://query.sse.com.cn/commonSoaQuery.do\""
   ]
  },
  {
   "cell_type": "code",
   "execution_count": 3,
   "id": "4e3d105e-d789-4704-93f4-be7ee36db6b2",
   "metadata": {
    "execution": {
     "iopub.execute_input": "2025-07-07T04:40:08.262695Z",
     "iopub.status.busy": "2025-07-07T04:40:08.262695Z",
     "iopub.status.idle": "2025-07-07T04:40:08.279650Z",
     "shell.execute_reply": "2025-07-07T04:40:08.278687Z",
     "shell.execute_reply.started": "2025-07-07T04:40:08.262695Z"
    },
    "tags": []
   },
   "outputs": [],
   "source": [
    "head={\"User-Agent\":\"Mozilla/5.0 (Windows NT 10.0; WOW64) AppleWebKit/537.36 (KHTML, like Gecko) Chrome/78.0.3904.108 Safari/537.36\",\n",
    "      \"Content-Type\":\"application/json\"}"
   ]
  },
  {
   "cell_type": "code",
   "execution_count": 116,
   "id": "ad5d8a43-71c9-4976-84e6-86370a65d363",
   "metadata": {
    "execution": {
     "iopub.execute_input": "2025-07-07T13:03:52.776472Z",
     "iopub.status.busy": "2025-07-07T13:03:52.776472Z",
     "iopub.status.idle": "2025-07-07T13:03:52.957745Z",
     "shell.execute_reply": "2025-07-07T13:03:52.954706Z",
     "shell.execute_reply.started": "2025-07-07T13:03:52.776472Z"
    },
    "tags": []
   },
   "outputs": [],
   "source": [
    "data={\n",
    "    'jsonCallBack':f'jsonpCallback26563',\n",
    "    'isPagination':'true',\n",
    "    'sqlId':'ZQ_XMLB',\n",
    "    'pageHelp.pageSize':'20',\n",
    "    # 'area': '',\n",
    "    # 'trade': '',\n",
    "    'status':'2',\n",
    "    'bond_type':'0,5',\n",
    "    'pageHelp.pageNo': 1,\n",
    "    # 'begin': '',\n",
    "    # '_': int(time.time())\n",
    "}\n",
    "reports=rq.get(index,params=data, headers={'Referer': 'http://www.sse.com.cn/'})\n",
    "json_data = reports.text.split('(', maxsplit=1)[-1].replace(')', '')"
   ]
  },
  {
   "cell_type": "code",
   "execution_count": 117,
   "id": "a0d92405-deba-475c-8904-fdfd65937b5c",
   "metadata": {
    "execution": {
     "iopub.execute_input": "2025-07-07T13:03:53.231900Z",
     "iopub.status.busy": "2025-07-07T13:03:53.230944Z",
     "iopub.status.idle": "2025-07-07T13:03:53.236073Z",
     "shell.execute_reply": "2025-07-07T13:03:53.235984Z",
     "shell.execute_reply.started": "2025-07-07T13:03:53.231900Z"
    }
   },
   "outputs": [
    {
     "data": {
      "text/plain": [
       "'{\"actionErrors\":[],\"actionMessages\":[],\"fieldErrors\":{},\"isPagination\":\"true\",\"jsonCallBack\":\"jsonpCallback26563\",\"locale\":\"en\",\"pageHelp\":{\"beginPage\":0,\"cacheSize\":1,\"data\":[],\"endDate\":null,\"endPage\":null,\"objectResult\":null,\"pageCount\":0,\"pageNo\":1,\"pageSize\":20,\"pageSizeWithOutLimit\":20,\"searchDate\":null,\"sort\":null,\"startDate\":null,\"total\":0},\"pageNo\":null,\"pageSize\":null,\"queryDate\":\"\",\"result\":[],\"securityCode\":\"\",\"sqlId\":\"ZQ_XMLB\",\"texts\":null,\"type\":\"\",\"validateCode\":\"\"}'"
      ]
     },
     "execution_count": 117,
     "metadata": {},
     "output_type": "execute_result"
    }
   ],
   "source": [
    "json_data"
   ]
  },
  {
   "cell_type": "code",
   "execution_count": 101,
   "id": "3ab88a7e-ec78-4c06-bc19-3e98d3478975",
   "metadata": {
    "execution": {
     "iopub.execute_input": "2025-07-07T12:55:07.791461Z",
     "iopub.status.busy": "2025-07-07T12:55:07.791461Z",
     "iopub.status.idle": "2025-07-07T12:55:07.975893Z",
     "shell.execute_reply": "2025-07-07T12:55:07.972839Z",
     "shell.execute_reply.started": "2025-07-07T12:55:07.791461Z"
    }
   },
   "outputs": [],
   "source": [
    "page_data = {\n",
    "    'jsonCallBack': f'jsonpCallback{random.randint(10000000, 99999999)}',\n",
    "    'isPagination': 'false',\n",
    "}\n",
    "page_data['audit_id'] = '0e0254a05132464199118aa6073a2b8a'\n",
    "page_data['sqlId'] = 'ZQ_GGJG'\n",
    "reports = rq.get(index, params=page_data, headers={'Referer': 'https://www.sse.com.cn/'})"
   ]
  },
  {
   "cell_type": "code",
   "execution_count": 6,
   "id": "a5598741-587f-4c8c-aa5f-3bf7654ea71d",
   "metadata": {
    "execution": {
     "iopub.execute_input": "2025-07-07T04:40:21.812204Z",
     "iopub.status.busy": "2025-07-07T04:40:21.811207Z",
     "iopub.status.idle": "2025-07-07T04:40:21.823175Z",
     "shell.execute_reply": "2025-07-07T04:40:21.822205Z",
     "shell.execute_reply.started": "2025-07-07T04:40:21.812204Z"
    }
   },
   "outputs": [],
   "source": [
    "result = json.loads(reports.content.decode().split('(')[-1][:-1])"
   ]
  },
  {
   "cell_type": "code",
   "execution_count": 7,
   "id": "c0205a1d-6f6d-483e-8269-f53b5e8b95ce",
   "metadata": {
    "execution": {
     "iopub.execute_input": "2025-07-07T04:40:23.063604Z",
     "iopub.status.busy": "2025-07-07T04:40:23.062607Z",
     "iopub.status.idle": "2025-07-07T04:40:23.083551Z",
     "shell.execute_reply": "2025-07-07T04:40:23.082553Z",
     "shell.execute_reply.started": "2025-07-07T04:40:23.063604Z"
    }
   },
   "outputs": [
    {
     "data": {
      "text/plain": [
       "dict_keys(['actionErrors', 'actionMessages', 'fieldErrors', 'isPagination', 'jsonCallBack', 'locale', 'pageHelp', 'pageNo', 'pageSize', 'queryDate', 'result', 'securityCode', 'sqlId', 'texts', 'type', 'validateCode'])"
      ]
     },
     "execution_count": 7,
     "metadata": {},
     "output_type": "execute_result"
    }
   ],
   "source": [
    "result.keys()"
   ]
  },
  {
   "cell_type": "code",
   "execution_count": 9,
   "id": "aee88b07-0202-4054-9272-e09c69093904",
   "metadata": {
    "execution": {
     "iopub.execute_input": "2025-07-07T05:06:24.086426Z",
     "iopub.status.busy": "2025-07-07T05:06:24.086426Z",
     "iopub.status.idle": "2025-07-07T05:06:24.117317Z",
     "shell.execute_reply": "2025-07-07T05:06:24.116345Z",
     "shell.execute_reply.started": "2025-07-07T05:06:24.086426Z"
    },
    "scrolled": true,
    "tags": []
   },
   "outputs": [
    {
     "data": {
      "text/plain": [
       "[{'PRIORITY_MANAGER': '-',\n",
       "  'PRIORITY_NAME': '-',\n",
       "  'AUDIT_NAME': '安徽国元金融控股集团有限责任公司2025年面向专业投资者公开发行公司债券',\n",
       "  'WEN_HAO': '-',\n",
       "  'BOND_TYPE': '0',\n",
       "  'PLAN_ISSUE_AMOUNT': '55',\n",
       "  'NUM': '1',\n",
       "  'ISSUER_ID': '719961611',\n",
       "  'WRITER_NAME': '国元证券股份有限公司',\n",
       "  'AUDIT_SUB_STATUS': '-',\n",
       "  'ACCEPT_DATE': '2025-03-14',\n",
       "  'SHORT_NAME': '国元证券',\n",
       "  'REG_APRV_WEN_HAO': '-',\n",
       "  'UNDERWRITER_ID': '73168637-6',\n",
       "  'BOND_NUM': 'e227f988c3fe493a85c63d8040a616be',\n",
       "  'AUDIT_STATUS': '2',\n",
       "  'FULL_NAME': '安徽国元金融控股集团有限责任公司',\n",
       "  'REITS_TYPE': '-',\n",
       "  'SEC_NAME': ' ',\n",
       "  'PUBLISH_DATE': '2025-07-05',\n",
       "  'SEQ': '9000022058'},\n",
       " {'PRIORITY_MANAGER': '-',\n",
       "  'PRIORITY_NAME': '-',\n",
       "  'AUDIT_NAME': '山西华阳集团新能股份有限公司2025年面向专业投资者公开发行可续期公司债券',\n",
       "  'WEN_HAO': '-',\n",
       "  'BOND_TYPE': '0',\n",
       "  'PLAN_ISSUE_AMOUNT': '30',\n",
       "  'NUM': '2',\n",
       "  'ISSUER_ID': '71599263-X',\n",
       "  'WRITER_NAME': '中德证券有限责任公司,中信证券股份有限公司,国信证券股份有限公司,中泰证券股份有限公司',\n",
       "  'AUDIT_SUB_STATUS': '-',\n",
       "  'ACCEPT_DATE': '2025-06-20',\n",
       "  'SHORT_NAME': '中德证券,中信证券,国信证券,中泰证券',\n",
       "  'REG_APRV_WEN_HAO': '-',\n",
       "  'UNDERWRITER_ID': '71788424-5,10178144-0,19227844-4,72924634-7',\n",
       "  'BOND_NUM': 'a73c25d279a249239b07307cc81aa95d',\n",
       "  'AUDIT_STATUS': '2',\n",
       "  'FULL_NAME': '山西华阳集团新能股份有限公司',\n",
       "  'REITS_TYPE': '-',\n",
       "  'SEC_NAME': '华阳股份',\n",
       "  'PUBLISH_DATE': '2025-07-04',\n",
       "  'SEQ': '9000022051'},\n",
       " {'PRIORITY_MANAGER': '-',\n",
       "  'PRIORITY_NAME': '-',\n",
       "  'AUDIT_NAME': '北京控股有限公司2025年面向专业投资者公开发行公司债券',\n",
       "  'WEN_HAO': '-',\n",
       "  'BOND_TYPE': '0',\n",
       "  'PLAN_ISSUE_AMOUNT': '150',\n",
       "  'NUM': '3',\n",
       "  'ISSUER_ID': '20869185-000-02-25-6',\n",
       "  'WRITER_NAME': '第一创业证券承销保荐有限责任公司,中国国际金融股份有限公司,中信证券股份有限公司,华泰联合证券有限责任公司,招商证券股份有限公司,中信建投证券股份有限公司,光大证券股份有限公司,中银国际证券股份有限公司',\n",
       "  'AUDIT_SUB_STATUS': '-',\n",
       "  'ACCEPT_DATE': '2025-05-30',\n",
       "  'SHORT_NAME': '一创投行,中金公司,中信证券,华泰联合证券,招商证券,中信建投证券,光大证券,中银国际证券',\n",
       "  'REG_APRV_WEN_HAO': '-',\n",
       "  'UNDERWRITER_ID': '911100007178848008,62590998-6,10178144-0,27943491-3,19223854-9,78170345-3,10001938-2,73665036-4',\n",
       "  'BOND_NUM': 'd7762430b0c242efa7b4082caa025d79',\n",
       "  'AUDIT_STATUS': '2',\n",
       "  'FULL_NAME': '北京控股有限公司',\n",
       "  'REITS_TYPE': '-',\n",
       "  'SEC_NAME': '北京控股',\n",
       "  'PUBLISH_DATE': '2025-07-04',\n",
       "  'SEQ': '9000022050'},\n",
       " {'PRIORITY_MANAGER': '-',\n",
       "  'PRIORITY_NAME': '-',\n",
       "  'AUDIT_NAME': '成都建工集团有限公司2025年面向专业投资者公开发行公司债券',\n",
       "  'WEN_HAO': '-',\n",
       "  'BOND_TYPE': '0',\n",
       "  'PLAN_ISSUE_AMOUNT': '40',\n",
       "  'NUM': '4',\n",
       "  'ISSUER_ID': '20192967-6',\n",
       "  'WRITER_NAME': '中国国际金融股份有限公司,中信证券股份有限公司,华泰联合证券有限责任公司',\n",
       "  'AUDIT_SUB_STATUS': '-',\n",
       "  'ACCEPT_DATE': '2025-03-14',\n",
       "  'SHORT_NAME': '中金公司,中信证券,华泰联合证券',\n",
       "  'REG_APRV_WEN_HAO': '-',\n",
       "  'UNDERWRITER_ID': '62590998-6,10178144-0,27943491-3',\n",
       "  'BOND_NUM': '5bdd626831b241e5bec6807ec924ab8a',\n",
       "  'AUDIT_STATUS': '2',\n",
       "  'FULL_NAME': '成都建工集团有限公司',\n",
       "  'REITS_TYPE': '-',\n",
       "  'SEC_NAME': ' ',\n",
       "  'PUBLISH_DATE': '2025-07-04',\n",
       "  'SEQ': '9000022049'},\n",
       " {'PRIORITY_MANAGER': '-',\n",
       "  'PRIORITY_NAME': '-',\n",
       "  'AUDIT_NAME': '江门市交通建设投资集团有限公司2025年面向专业投资者公开发行公司债券',\n",
       "  'WEN_HAO': '-',\n",
       "  'BOND_TYPE': '0',\n",
       "  'PLAN_ISSUE_AMOUNT': '10',\n",
       "  'NUM': '5',\n",
       "  'ISSUER_ID': '72651696-2',\n",
       "  'WRITER_NAME': '中国国际金融股份有限公司',\n",
       "  'AUDIT_SUB_STATUS': '-',\n",
       "  'ACCEPT_DATE': '2025-02-18',\n",
       "  'SHORT_NAME': '中金公司',\n",
       "  'REG_APRV_WEN_HAO': '-',\n",
       "  'UNDERWRITER_ID': '62590998-6',\n",
       "  'BOND_NUM': '56bc2d562a2b4df194d6d9f9dfc1e7d7',\n",
       "  'AUDIT_STATUS': '2',\n",
       "  'FULL_NAME': '江门市交通建设投资集团有限公司',\n",
       "  'REITS_TYPE': '-',\n",
       "  'SEC_NAME': ' ',\n",
       "  'PUBLISH_DATE': '2025-07-04',\n",
       "  'SEQ': '9000022045'},\n",
       " {'PRIORITY_MANAGER': '-',\n",
       "  'PRIORITY_NAME': '-',\n",
       "  'AUDIT_NAME': '广西能源集团有限公司2025年面向专业投资者公开发行绿色科技创新公司债券',\n",
       "  'WEN_HAO': '-',\n",
       "  'BOND_TYPE': '0',\n",
       "  'PLAN_ISSUE_AMOUNT': '20',\n",
       "  'NUM': '6',\n",
       "  'ISSUER_ID': '75123848-2',\n",
       "  'WRITER_NAME': '东方证券股份有限公司,华泰联合证券有限责任公司,广发证券股份有限公司',\n",
       "  'AUDIT_SUB_STATUS': '-',\n",
       "  'ACCEPT_DATE': '2025-03-17',\n",
       "  'SHORT_NAME': '东方证券,华泰联合证券,广发证券',\n",
       "  'REG_APRV_WEN_HAO': '-',\n",
       "  'UNDERWRITER_ID': '913100001322947763,27943491-3,12633543-9',\n",
       "  'BOND_NUM': 'e4f3096ef98e4bce84bfd4ff5e6a5fe1',\n",
       "  'AUDIT_STATUS': '2',\n",
       "  'FULL_NAME': '广西能源集团有限公司',\n",
       "  'REITS_TYPE': '-',\n",
       "  'SEC_NAME': ' ',\n",
       "  'PUBLISH_DATE': '2025-07-04',\n",
       "  'SEQ': '9000022041'},\n",
       " {'PRIORITY_MANAGER': '-',\n",
       "  'PRIORITY_NAME': '-',\n",
       "  'AUDIT_NAME': '中国水电建设集团国际工程有限公司2025年面向专业投资者公开发行可续期公司债券',\n",
       "  'WEN_HAO': '-',\n",
       "  'BOND_TYPE': '0',\n",
       "  'PLAN_ISSUE_AMOUNT': '50',\n",
       "  'NUM': '7',\n",
       "  'ISSUER_ID': '710933104',\n",
       "  'WRITER_NAME': '中国国际金融股份有限公司',\n",
       "  'AUDIT_SUB_STATUS': '-',\n",
       "  'ACCEPT_DATE': '2025-06-20',\n",
       "  'SHORT_NAME': '中金公司',\n",
       "  'REG_APRV_WEN_HAO': '-',\n",
       "  'UNDERWRITER_ID': '62590998-6',\n",
       "  'BOND_NUM': 'f32e238902b04ece983d75ea502d5b22',\n",
       "  'AUDIT_STATUS': '2',\n",
       "  'FULL_NAME': '中国水电建设集团国际工程有限公司',\n",
       "  'REITS_TYPE': '-',\n",
       "  'SEC_NAME': ' ',\n",
       "  'PUBLISH_DATE': '2025-07-04',\n",
       "  'SEQ': '9000022035'},\n",
       " {'PRIORITY_MANAGER': '-',\n",
       "  'PRIORITY_NAME': '-',\n",
       "  'AUDIT_NAME': '广西北部湾投资集团有限公司2025年面向专业投资者公开发行公司债券',\n",
       "  'WEN_HAO': '-',\n",
       "  'BOND_TYPE': '0',\n",
       "  'PLAN_ISSUE_AMOUNT': '100',\n",
       "  'NUM': '8',\n",
       "  'ISSUER_ID': '79970115-7',\n",
       "  'WRITER_NAME': '华泰联合证券有限责任公司,国泰海通证券股份有限公司,广发证券股份有限公司',\n",
       "  'AUDIT_SUB_STATUS': '-',\n",
       "  'ACCEPT_DATE': '2025-03-13',\n",
       "  'SHORT_NAME': '华泰联合证券,国泰海通,广发证券',\n",
       "  'REG_APRV_WEN_HAO': '-',\n",
       "  'UNDERWRITER_ID': '27943491-3,63159284-X,12633543-9',\n",
       "  'BOND_NUM': '17f5091142694ec4805f1c06bfa83791',\n",
       "  'AUDIT_STATUS': '2',\n",
       "  'FULL_NAME': '广西北部湾投资集团有限公司',\n",
       "  'REITS_TYPE': '-',\n",
       "  'SEC_NAME': ' ',\n",
       "  'PUBLISH_DATE': '2025-07-04',\n",
       "  'SEQ': '9000022021'},\n",
       " {'PRIORITY_MANAGER': '-',\n",
       "  'PRIORITY_NAME': '-',\n",
       "  'AUDIT_NAME': '辽宁省能源产业控股集团有限责任公司2025年面向专业投资者公开发行公司债券',\n",
       "  'WEN_HAO': '-',\n",
       "  'BOND_TYPE': '0',\n",
       "  'PLAN_ISSUE_AMOUNT': '30',\n",
       "  'NUM': '9',\n",
       "  'ISSUER_ID': 'MA0Y9MQ3-7',\n",
       "  'WRITER_NAME': '中信证券股份有限公司',\n",
       "  'AUDIT_SUB_STATUS': '-',\n",
       "  'ACCEPT_DATE': '2025-05-06',\n",
       "  'SHORT_NAME': '中信证券',\n",
       "  'REG_APRV_WEN_HAO': '-',\n",
       "  'UNDERWRITER_ID': '10178144-0',\n",
       "  'BOND_NUM': 'ae55213bdae44e4082fc61e224e2278c',\n",
       "  'AUDIT_STATUS': '2',\n",
       "  'FULL_NAME': '辽宁省能源产业控股集团有限责任公司',\n",
       "  'REITS_TYPE': '-',\n",
       "  'SEC_NAME': ' ',\n",
       "  'PUBLISH_DATE': '2025-07-03',\n",
       "  'SEQ': '9000021979'},\n",
       " {'PRIORITY_MANAGER': '-',\n",
       "  'PRIORITY_NAME': '-',\n",
       "  'AUDIT_NAME': '南京扬子国资投资集团有限责任公司2025年面向专业投资者公开发行公司债券',\n",
       "  'WEN_HAO': '-',\n",
       "  'BOND_TYPE': '0',\n",
       "  'PLAN_ISSUE_AMOUNT': '100',\n",
       "  'NUM': '10',\n",
       "  'ISSUER_ID': '09392720-X',\n",
       "  'WRITER_NAME': '中信建投证券股份有限公司',\n",
       "  'AUDIT_SUB_STATUS': '-',\n",
       "  'ACCEPT_DATE': '2025-03-14',\n",
       "  'SHORT_NAME': '中信建投证券',\n",
       "  'REG_APRV_WEN_HAO': '-',\n",
       "  'UNDERWRITER_ID': '78170345-3',\n",
       "  'BOND_NUM': '34a6f1e1970b4196862e61c06ffafeeb',\n",
       "  'AUDIT_STATUS': '2',\n",
       "  'FULL_NAME': '南京扬子国资投资集团有限责任公司',\n",
       "  'REITS_TYPE': '-',\n",
       "  'SEC_NAME': ' ',\n",
       "  'PUBLISH_DATE': '2025-07-03',\n",
       "  'SEQ': '9000016531'},\n",
       " {'PRIORITY_MANAGER': '-',\n",
       "  'PRIORITY_NAME': '-',\n",
       "  'AUDIT_NAME': '厦门建发集团有限公司2025年面向专业投资者公开发行可续期公司债券',\n",
       "  'WEN_HAO': '-',\n",
       "  'BOND_TYPE': '0',\n",
       "  'PLAN_ISSUE_AMOUNT': '150',\n",
       "  'NUM': '11',\n",
       "  'ISSUER_ID': '154990617',\n",
       "  'WRITER_NAME': '兴业证券股份有限公司,国投证券股份有限公司,光大证券股份有限公司',\n",
       "  'AUDIT_SUB_STATUS': '-',\n",
       "  'ACCEPT_DATE': '2025-03-13',\n",
       "  'SHORT_NAME': '兴业证券,国投证券,光大证券',\n",
       "  'REG_APRV_WEN_HAO': '-',\n",
       "  'UNDERWRITER_ID': '15815989-8,79257395-7,10001938-2',\n",
       "  'BOND_NUM': '91d0533cb12f4590936b24dd858de7d9',\n",
       "  'AUDIT_STATUS': '2',\n",
       "  'FULL_NAME': '厦门建发集团有限公司',\n",
       "  'REITS_TYPE': '-',\n",
       "  'SEC_NAME': ' ',\n",
       "  'PUBLISH_DATE': '2025-07-03',\n",
       "  'SEQ': '9000021897'},\n",
       " {'PRIORITY_MANAGER': '-',\n",
       "  'PRIORITY_NAME': '-',\n",
       "  'AUDIT_NAME': '杭州西湖城市建设投资集团有限公司2025年面向专业投资者公开发行公司债券',\n",
       "  'WEN_HAO': '-',\n",
       "  'BOND_TYPE': '0',\n",
       "  'PLAN_ISSUE_AMOUNT': '30',\n",
       "  'NUM': '12',\n",
       "  'ISSUER_ID': '913301067544468937',\n",
       "  'WRITER_NAME': '浙商证券股份有限公司',\n",
       "  'AUDIT_SUB_STATUS': '-',\n",
       "  'ACCEPT_DATE': '2025-06-04',\n",
       "  'SHORT_NAME': '浙商证券',\n",
       "  'REG_APRV_WEN_HAO': '-',\n",
       "  'UNDERWRITER_ID': '73844297-2',\n",
       "  'BOND_NUM': 'e47ff8be99a748d987dcdf058a48b11e',\n",
       "  'AUDIT_STATUS': '2',\n",
       "  'FULL_NAME': '杭州西湖城市建设投资集团有限公司',\n",
       "  'REITS_TYPE': '-',\n",
       "  'SEC_NAME': ' ',\n",
       "  'PUBLISH_DATE': '2025-07-02',\n",
       "  'SEQ': '9000022053'},\n",
       " {'PRIORITY_MANAGER': '-',\n",
       "  'PRIORITY_NAME': '-',\n",
       "  'AUDIT_NAME': '甘肃省公路交通建设集团有限公司2025年面向专业投资者公开发行公司债券',\n",
       "  'WEN_HAO': '-',\n",
       "  'BOND_TYPE': '0',\n",
       "  'PLAN_ISSUE_AMOUNT': '20',\n",
       "  'NUM': '13',\n",
       "  'ISSUER_ID': '91620000098238577P',\n",
       "  'WRITER_NAME': '国泰海通证券股份有限公司',\n",
       "  'AUDIT_SUB_STATUS': '-',\n",
       "  'ACCEPT_DATE': '2025-03-17',\n",
       "  'SHORT_NAME': '国泰海通',\n",
       "  'REG_APRV_WEN_HAO': '-',\n",
       "  'UNDERWRITER_ID': '63159284-X',\n",
       "  'BOND_NUM': '75164bcde6e94ec49bcac615a8760b2f',\n",
       "  'AUDIT_STATUS': '2',\n",
       "  'FULL_NAME': '甘肃省公路交通建设集团有限公司',\n",
       "  'REITS_TYPE': '-',\n",
       "  'SEC_NAME': ' ',\n",
       "  'PUBLISH_DATE': '2025-07-02',\n",
       "  'SEQ': '9000021835'},\n",
       " {'PRIORITY_MANAGER': '-',\n",
       "  'PRIORITY_NAME': '-',\n",
       "  'AUDIT_NAME': '国泰租赁有限公司2025年面向专业投资者公开发行公司债券',\n",
       "  'WEN_HAO': '-',\n",
       "  'BOND_TYPE': '0',\n",
       "  'PLAN_ISSUE_AMOUNT': '20',\n",
       "  'NUM': '14',\n",
       "  'ISSUER_ID': '79885230-8',\n",
       "  'WRITER_NAME': '中国银河证券股份有限公司',\n",
       "  'AUDIT_SUB_STATUS': '-',\n",
       "  'ACCEPT_DATE': '2025-06-17',\n",
       "  'SHORT_NAME': '银河证券',\n",
       "  'REG_APRV_WEN_HAO': '-',\n",
       "  'UNDERWRITER_ID': '91110000710934537G',\n",
       "  'BOND_NUM': '01bbf7e588ea4bca96e35aff4b2c0d9c',\n",
       "  'AUDIT_STATUS': '2',\n",
       "  'FULL_NAME': '国泰租赁有限公司',\n",
       "  'REITS_TYPE': '-',\n",
       "  'SEC_NAME': ' ',\n",
       "  'PUBLISH_DATE': '2025-07-01',\n",
       "  'SEQ': '9000021751'},\n",
       " {'PRIORITY_MANAGER': '-',\n",
       "  'PRIORITY_NAME': '-',\n",
       "  'AUDIT_NAME': '江西省金控投资集团有限公司2024年面向专业投资者公开发行公司债券',\n",
       "  'WEN_HAO': '-',\n",
       "  'BOND_TYPE': '0',\n",
       "  'PLAN_ISSUE_AMOUNT': '20',\n",
       "  'NUM': '15',\n",
       "  'ISSUER_ID': 'MA37Q7NP-0',\n",
       "  'WRITER_NAME': '国泰海通证券股份有限公司',\n",
       "  'AUDIT_SUB_STATUS': '-',\n",
       "  'ACCEPT_DATE': '2024-12-12',\n",
       "  'SHORT_NAME': '国泰海通',\n",
       "  'REG_APRV_WEN_HAO': '-',\n",
       "  'UNDERWRITER_ID': '63159284-X',\n",
       "  'BOND_NUM': '7d10d3ab1bfe4f8ab100deed635cb760',\n",
       "  'AUDIT_STATUS': '2',\n",
       "  'FULL_NAME': '江西省金控投资集团有限公司',\n",
       "  'REITS_TYPE': '-',\n",
       "  'SEC_NAME': ' ',\n",
       "  'PUBLISH_DATE': '2025-07-01',\n",
       "  'SEQ': '9000021705'},\n",
       " {'PRIORITY_MANAGER': '-',\n",
       "  'PRIORITY_NAME': '-',\n",
       "  'AUDIT_NAME': '佛山市建设发展集团有限公司2024年面向专业投资者公开发行可续期公司债券',\n",
       "  'WEN_HAO': '-',\n",
       "  'BOND_TYPE': '0',\n",
       "  'PLAN_ISSUE_AMOUNT': '30',\n",
       "  'NUM': '16',\n",
       "  'ISSUER_ID': '590064070',\n",
       "  'WRITER_NAME': '国泰海通证券股份有限公司,东方证券股份有限公司',\n",
       "  'AUDIT_SUB_STATUS': '-',\n",
       "  'ACCEPT_DATE': '2024-11-27',\n",
       "  'SHORT_NAME': '国泰海通,东方证券',\n",
       "  'REG_APRV_WEN_HAO': '-',\n",
       "  'UNDERWRITER_ID': '63159284-X,913100001322947763',\n",
       "  'BOND_NUM': '53144',\n",
       "  'AUDIT_STATUS': '2',\n",
       "  'FULL_NAME': '佛山市建设发展集团有限公司',\n",
       "  'REITS_TYPE': '-',\n",
       "  'SEC_NAME': ' ',\n",
       "  'PUBLISH_DATE': '2025-07-01',\n",
       "  'SEQ': '9000021694'},\n",
       " {'PRIORITY_MANAGER': '-',\n",
       "  'PRIORITY_NAME': '-',\n",
       "  'AUDIT_NAME': '中铁铁龙集装箱物流股份有限公司2025年面向专业投资者公开发行公司债券',\n",
       "  'WEN_HAO': '-',\n",
       "  'BOND_TYPE': '0',\n",
       "  'PLAN_ISSUE_AMOUNT': '15',\n",
       "  'NUM': '17',\n",
       "  'ISSUER_ID': '91210200241272744N',\n",
       "  'WRITER_NAME': '中德证券有限责任公司',\n",
       "  'AUDIT_SUB_STATUS': '-',\n",
       "  'ACCEPT_DATE': '2025-06-16',\n",
       "  'SHORT_NAME': '中德证券',\n",
       "  'REG_APRV_WEN_HAO': '-',\n",
       "  'UNDERWRITER_ID': '71788424-5',\n",
       "  'BOND_NUM': 'f5894f1e435e4d25a43657773a389252',\n",
       "  'AUDIT_STATUS': '2',\n",
       "  'FULL_NAME': '中铁铁龙集装箱物流股份有限公司',\n",
       "  'REITS_TYPE': '-',\n",
       "  'SEC_NAME': '-',\n",
       "  'PUBLISH_DATE': '2025-06-30',\n",
       "  'SEQ': '9000021674'},\n",
       " {'PRIORITY_MANAGER': '-',\n",
       "  'PRIORITY_NAME': '-',\n",
       "  'AUDIT_NAME': '渤海证券股份有限公司2025年面向专业投资者公开发行公司债券',\n",
       "  'WEN_HAO': '-',\n",
       "  'BOND_TYPE': '0',\n",
       "  'PLAN_ISSUE_AMOUNT': '60',\n",
       "  'NUM': '18',\n",
       "  'ISSUER_ID': '10306457-6',\n",
       "  'WRITER_NAME': '信达证券股份有限公司,财达证券股份有限公司',\n",
       "  'AUDIT_SUB_STATUS': '-',\n",
       "  'ACCEPT_DATE': '2025-06-16',\n",
       "  'SHORT_NAME': '信达证券股份有限公司,财达证券',\n",
       "  'REG_APRV_WEN_HAO': '-',\n",
       "  'UNDERWRITER_ID': '71093496-7,91130000738711917Q',\n",
       "  'BOND_NUM': 'cef0d6996a684cb98ec704bf2648766d',\n",
       "  'AUDIT_STATUS': '2',\n",
       "  'FULL_NAME': '渤海证券股份有限公司',\n",
       "  'REITS_TYPE': '-',\n",
       "  'SEC_NAME': ' ',\n",
       "  'PUBLISH_DATE': '2025-06-30',\n",
       "  'SEQ': '9000021666'},\n",
       " {'PRIORITY_MANAGER': '-',\n",
       "  'PRIORITY_NAME': '-',\n",
       "  'AUDIT_NAME': '南通沿海开发集团有限公司2025年面向专业投资者公开发行公司债券',\n",
       "  'WEN_HAO': '-',\n",
       "  'BOND_TYPE': '0',\n",
       "  'PLAN_ISSUE_AMOUNT': '20',\n",
       "  'NUM': '19',\n",
       "  'ISSUER_ID': '59564350-6',\n",
       "  'WRITER_NAME': '国泰海通证券股份有限公司',\n",
       "  'AUDIT_SUB_STATUS': '-',\n",
       "  'ACCEPT_DATE': '2025-06-16',\n",
       "  'SHORT_NAME': '国泰海通',\n",
       "  'REG_APRV_WEN_HAO': '-',\n",
       "  'UNDERWRITER_ID': '63159284-X',\n",
       "  'BOND_NUM': 'd682e69c3ed54555b5905a4bd470e6df',\n",
       "  'AUDIT_STATUS': '2',\n",
       "  'FULL_NAME': '南通沿海开发集团有限公司',\n",
       "  'REITS_TYPE': '-',\n",
       "  'SEC_NAME': ' ',\n",
       "  'PUBLISH_DATE': '2025-06-30',\n",
       "  'SEQ': '9000021663'},\n",
       " {'PRIORITY_MANAGER': '-',\n",
       "  'PRIORITY_NAME': '-',\n",
       "  'AUDIT_NAME': '新城控股集团股份有限公司2025年面向专业投资者公开发行公司债券',\n",
       "  'WEN_HAO': '-',\n",
       "  'BOND_TYPE': '0',\n",
       "  'PLAN_ISSUE_AMOUNT': '60',\n",
       "  'NUM': '20',\n",
       "  'ISSUER_ID': '25083230-1',\n",
       "  'WRITER_NAME': '中信证券股份有限公司',\n",
       "  'AUDIT_SUB_STATUS': '-',\n",
       "  'ACCEPT_DATE': '2025-06-16',\n",
       "  'SHORT_NAME': '中信证券',\n",
       "  'REG_APRV_WEN_HAO': '-',\n",
       "  'UNDERWRITER_ID': '10178144-0',\n",
       "  'BOND_NUM': '6178ecc656724afb90a1c849bf3f9179',\n",
       "  'AUDIT_STATUS': '2',\n",
       "  'FULL_NAME': '新城控股集团股份有限公司',\n",
       "  'REITS_TYPE': '-',\n",
       "  'SEC_NAME': '新城控股',\n",
       "  'PUBLISH_DATE': '2025-06-30',\n",
       "  'SEQ': '9000021661'}]"
      ]
     },
     "execution_count": 9,
     "metadata": {},
     "output_type": "execute_result"
    }
   ],
   "source": [
    "result['pageHelp']['data']"
   ]
  },
  {
   "cell_type": "code",
   "execution_count": 118,
   "id": "4c599c75-9157-4afc-8075-1f488edef285",
   "metadata": {
    "execution": {
     "iopub.execute_input": "2025-07-07T13:08:52.140486Z",
     "iopub.status.busy": "2025-07-07T13:08:52.140486Z",
     "iopub.status.idle": "2025-07-07T13:08:52.342669Z",
     "shell.execute_reply": "2025-07-07T13:08:52.339620Z",
     "shell.execute_reply.started": "2025-07-07T13:08:52.140486Z"
    }
   },
   "outputs": [],
   "source": [
    "file = rq.get('https://static.sse.com.cn/bond/bridge2/disclosure/announcement/c/202503/4fc929_20250307_ECU1.pdf')"
   ]
  },
  {
   "cell_type": "code",
   "execution_count": 119,
   "id": "6179eb7b-5795-43f9-9db8-42b43428090d",
   "metadata": {
    "execution": {
     "iopub.execute_input": "2025-07-07T13:08:54.823587Z",
     "iopub.status.busy": "2025-07-07T13:08:54.823587Z",
     "iopub.status.idle": "2025-07-07T13:08:54.830845Z",
     "shell.execute_reply": "2025-07-07T13:08:54.830300Z",
     "shell.execute_reply.started": "2025-07-07T13:08:54.823587Z"
    },
    "scrolled": true
   },
   "outputs": [],
   "source": [
    "def process_pdf(pdf_file):\n",
    "    pdf_reader = pdfplumber.open(pdf_file)\n",
    "    if not pdf_reader.pages[0].extract_text():\n",
    "        return 'pdf文件无法解析！'\n",
    "    if len(pdf_reader.pages) == 1:\n",
    "        lines = pdf_reader.pages[0].extract_text()\n",
    "        text = ''.join(lines.split('\\n'))\n",
    "        index1 = text.find('反馈意见：')\n",
    "        index2 = text.find('请你公司对上述问题逐项落实')\n",
    "        return text[index1 + 5:index2]\n",
    "    else:\n",
    "        feedback = ''\n",
    "        begin = False\n",
    "        end = False\n",
    "        for page in pdf_reader.pages:\n",
    "            lines = page.extract_text()\n",
    "            text = lines.split('\\n')\n",
    "            if text[-1][0] == '-':\n",
    "                text = text[:-1]\n",
    "            text = ''.join(text)\n",
    "            if not begin:\n",
    "                index = text.find('反馈意见：')\n",
    "                if index != -1:\n",
    "                    begin = True\n",
    "                    feedback += text[index + 5:]\n",
    "            elif not end:\n",
    "                index = text.find('请你公司对上述问题逐项落实')\n",
    "                if index != -1:\n",
    "                    feedback += text[:index]\n",
    "                    break\n",
    "                else:\n",
    "                    feedback += text\n",
    "        return feedback"
   ]
  },
  {
   "cell_type": "code",
   "execution_count": 120,
   "id": "08c5aace-8e50-4827-ac2f-cc28cd56cfc7",
   "metadata": {
    "execution": {
     "iopub.execute_input": "2025-07-07T13:08:55.055053Z",
     "iopub.status.busy": "2025-07-07T13:08:55.055053Z",
     "iopub.status.idle": "2025-07-07T13:08:55.134968Z",
     "shell.execute_reply": "2025-07-07T13:08:55.134968Z",
     "shell.execute_reply.started": "2025-07-07T13:08:55.055053Z"
    }
   },
   "outputs": [
    {
     "name": "stdout",
     "output_type": "stream",
     "text": [
      "根据公开披露信息，发行人因涉及在思尔芯科创板首次公开发行股票并上市保荐业务中未勤勉尽责，于2024年12月20日收到中国证监会《行政处罚决定书》。请发行人结合业务整改最新进展，补充说明涉及整改情况；是否存在尚未完成整改的情形，并结内部控制制度、合规管理机制的建立与运行情况，评估上述事项对发行人业务、经营及偿债能力和对本次债券发行条件的影响。请主承销商对上述事项进行核查并发表明确意见。\n"
     ]
    }
   ],
   "source": [
    "bio = BytesIO(file.content)\n",
    "text = process_pdf(bio)\n",
    "bio.close()\n",
    "print(text)"
   ]
  },
  {
   "cell_type": "code",
   "execution_count": 66,
   "id": "437fb4fd-5c2e-47c4-a29c-a1c91edb2e81",
   "metadata": {
    "execution": {
     "iopub.execute_input": "2025-07-07T11:34:42.678810Z",
     "iopub.status.busy": "2025-07-07T11:34:42.678810Z",
     "iopub.status.idle": "2025-07-07T11:34:42.683346Z",
     "shell.execute_reply": "2025-07-07T11:34:42.683303Z",
     "shell.execute_reply.started": "2025-07-07T11:34:42.678810Z"
    }
   },
   "outputs": [
    {
     "data": {
      "text/plain": [
       "''"
      ]
     },
     "execution_count": 66,
     "metadata": {},
     "output_type": "execute_result"
    }
   ],
   "source": [
    "'1232456'[:0]"
   ]
  },
  {
   "cell_type": "code",
   "execution_count": null,
   "id": "04787147-969e-491a-a5f3-caeb8637314e",
   "metadata": {},
   "outputs": [],
   "source": []
  }
 ],
 "metadata": {
  "kernelspec": {
   "display_name": "Python [conda env:base] *",
   "language": "python",
   "name": "conda-base-py"
  },
  "language_info": {
   "codemirror_mode": {
    "name": "ipython",
    "version": 3
   },
   "file_extension": ".py",
   "mimetype": "text/x-python",
   "name": "python",
   "nbconvert_exporter": "python",
   "pygments_lexer": "ipython3",
   "version": "3.12.3"
  }
 },
 "nbformat": 4,
 "nbformat_minor": 5
}
